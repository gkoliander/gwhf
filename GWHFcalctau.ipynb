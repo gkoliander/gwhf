{
 "cells": [
  {
   "cell_type": "code",
   "execution_count": 1,
   "metadata": {
    "id": "zE-NoBY3_TYz"
   },
   "outputs": [],
   "source": [
    "from sympy import *\n",
    "from sympy.printing import latex\n",
    "\n",
    "\n"
   ]
  },
  {
   "cell_type": "code",
   "execution_count": 2,
   "metadata": {
    "id": "DNTu4aFnAFDR"
   },
   "outputs": [],
   "source": [
    "#Initialize symbols\n",
    "x, y, u, v = symbols('x y u v', real=True)\n",
    "xe, ye, ue, ve = symbols('xe ye ue ve', real=True)\n",
    "r, s = symbols('r s', real=True)\n",
    "P = symbols('P', real=True, commutative=True, cls=Function)\n",
    "Q = symbols('Q', real=True, commutative=True, cls=Function)\n",
    "\n",
    "#Define differentials\n",
    "dx = lambda f : diff(f,x)\n",
    "dy = lambda f : diff(f,y)\n",
    "du = lambda f : diff(f,u)\n",
    "dv = lambda f : diff(f,v)\n",
    "\n",
    "\n",
    "#Define convenient substitutions\n",
    "switchzw = ([(x,ue), (y,ve), (u,x), (v,y), (ue,u), (ve,v)])\n",
    "allz = ([(u,x), (v,y)])\n",
    "allw = ([(x,u), (y,v)])\n",
    "subsr = ([((u-x)**2+(v-y)**2,r**2)])\n",
    "subsr.append(((-u+x)**2+(-v+y)**2,r**2))\n",
    "subsP0 = ([(P(0),1)])\n"
   ]
  },
  {
   "cell_type": "markdown",
   "metadata": {
    "id": "qmDuJHlfq-42"
   },
   "source": [
    "We first define the covariance kernel $K(z,w)= \\mathbb{E}[F(z) \\overline{F(w)}]$ and all derivatives with respect to real and imaginary parts of $z=x+iy$ and $w=u+iv$"
   ]
  },
  {
   "cell_type": "code",
   "execution_count": 3,
   "metadata": {
    "colab": {
     "base_uri": "https://localhost:8080/",
     "height": 48
    },
    "id": "-8-f3W-xAKiy",
    "outputId": "837b42ad-2147-49f1-e570-7f17c510deb3"
   },
   "outputs": [
    {
     "data": {
      "text/latex": [
       "$\\displaystyle P{\\left(\\left(u - x\\right)^{2} + \\left(v - y\\right)^{2} \\right)} e^{i \\left(u y - v x\\right)}$"
      ],
      "text/plain": [
       "P((u - x)**2 + (v - y)**2)*exp(I*(u*y - v*x))"
      ]
     },
     "execution_count": 3,
     "metadata": {},
     "output_type": "execute_result"
    }
   ],
   "source": [
    "#Define kernel\n",
    "K = P((x-u)**2+(y-v)**2)*exp(I*(-x*v+y*u))\n",
    "K = K.simplify()\n",
    "K"
   ]
  },
  {
   "cell_type": "code",
   "execution_count": 4,
   "metadata": {
    "id": "C5ZXYA7UAYs4"
   },
   "outputs": [],
   "source": [
    "Ke = K\n",
    "Ke = Ke.simplify()\n",
    "#\n",
    "dxK = dx(K)\n",
    "dxKe = dxK\n",
    "dxKe = dxKe.simplify()\n",
    "#\n",
    "dyK = dy(K)\n",
    "dyKe = dyK\n",
    "dyKe = dyKe.simplify()\n",
    "#\n",
    "duK = du(K)\n",
    "duKe = duK\n",
    "duKe = duKe.simplify()\n",
    "#\n",
    "dvK = dv(K)\n",
    "dvKe = dvK\n",
    "dvKe = dvKe.simplify()\n",
    "#\n",
    "dxduKe = du(dxK)\n",
    "dxduKe = dxduKe.simplify()\n",
    "#\n",
    "dyduKe = du(dyK)\n",
    "dyduKe = dyduKe.simplify()\n",
    "#\n",
    "dxdvKe = dv(dxK)\n",
    "dxdvKe = dxdvKe.simplify()\n",
    "#\n",
    "dydvKe = dv(dyK)\n",
    "dydvKe = dydvKe.simplify()\n",
    "\n"
   ]
  },
  {
   "cell_type": "markdown",
   "metadata": {
    "id": "r0PztrJQrV_K"
   },
   "source": [
    "Define derivatives of $P$ for later use"
   ]
  },
  {
   "cell_type": "code",
   "execution_count": 5,
   "metadata": {
    "colab": {
     "base_uri": "https://localhost:8080/",
     "height": 53
    },
    "id": "djIO9tPC9W5z",
    "outputId": "6fdf0ccb-5872-44d6-8723-df0b08657f94"
   },
   "outputs": [
    {
     "data": {
      "text/latex": [
       "$\\displaystyle \\left. \\frac{d}{d \\xi_{1}} P{\\left(\\xi_{1} \\right)} \\right|_{\\substack{ \\xi_{1}=\\left(u - x\\right)^{2} + \\left(v - y\\right)^{2} }}$"
      ],
      "text/plain": [
       "Subs(Derivative(P(_xi_1), _xi_1), _xi_1, (u - x)**2 + (v - y)**2)"
      ]
     },
     "execution_count": 5,
     "metadata": {},
     "output_type": "execute_result"
    }
   ],
   "source": [
    "Pprimer = dx(P((u-x)**2+(v-y)**2))/(2*x-2*u)\n",
    "Pprimer"
   ]
  },
  {
   "cell_type": "code",
   "execution_count": 6,
   "metadata": {
    "colab": {
     "base_uri": "https://localhost:8080/",
     "height": 52
    },
    "id": "DpOpbIzauBW8",
    "outputId": "ea53036b-7fd3-43f0-d43f-93cffccf4def"
   },
   "outputs": [
    {
     "data": {
      "text/latex": [
       "$\\displaystyle \\left. \\frac{d}{d \\xi_{1}} P{\\left(\\xi_{1} \\right)} \\right|_{\\substack{ \\xi_{1}=r^{2} }}$"
      ],
      "text/plain": [
       "Subs(Derivative(P(_xi_1), _xi_1), _xi_1, r**2)"
      ]
     },
     "execution_count": 6,
     "metadata": {},
     "output_type": "execute_result"
    }
   ],
   "source": [
    "Ppe = Pprimer.subs(subsr)\n",
    "Ppe"
   ]
  },
  {
   "cell_type": "code",
   "execution_count": 7,
   "metadata": {
    "colab": {
     "base_uri": "https://localhost:8080/",
     "height": 53
    },
    "id": "zR6nUdCYcKeU",
    "outputId": "507e3bb6-3e1c-47a0-fc0d-ebcdd09437ea"
   },
   "outputs": [
    {
     "data": {
      "text/latex": [
       "$\\displaystyle \\left. \\frac{d^{2}}{d \\xi_{1}^{2}} P{\\left(\\xi_{1} \\right)} \\right|_{\\substack{ \\xi_{1}=\\left(u - x\\right)^{2} + \\left(v - y\\right)^{2} }}$"
      ],
      "text/plain": [
       "Subs(Derivative(P(_xi_1), (_xi_1, 2)), _xi_1, (u - x)**2 + (v - y)**2)"
      ]
     },
     "execution_count": 7,
     "metadata": {},
     "output_type": "execute_result"
    }
   ],
   "source": [
    "Pprimer2 = dx(Pprimer)/(2*x-2*u)\n",
    "Pprimer2"
   ]
  },
  {
   "cell_type": "code",
   "execution_count": 8,
   "metadata": {
    "colab": {
     "base_uri": "https://localhost:8080/",
     "height": 52
    },
    "id": "lUkmLD9ccaEi",
    "outputId": "5c07839a-79de-46ac-b1a5-989625f773f7"
   },
   "outputs": [
    {
     "data": {
      "text/latex": [
       "$\\displaystyle \\left. \\frac{d^{2}}{d \\xi_{1}^{2}} P{\\left(\\xi_{1} \\right)} \\right|_{\\substack{ \\xi_{1}=r^{2} }}$"
      ],
      "text/plain": [
       "Subs(Derivative(P(_xi_1), (_xi_1, 2)), _xi_1, r**2)"
      ]
     },
     "execution_count": 8,
     "metadata": {},
     "output_type": "execute_result"
    }
   ],
   "source": [
    "Pppe = Pprimer2.subs(subsr)\n",
    "Pppe"
   ]
  },
  {
   "cell_type": "markdown",
   "metadata": {
    "id": "MvjZqXcyrcfe"
   },
   "source": [
    "Simplify derivatives of the kernel by collecting $P$ and $P'$"
   ]
  },
  {
   "cell_type": "code",
   "execution_count": 9,
   "metadata": {
    "id": "mZokLxmA93SL"
   },
   "outputs": [],
   "source": [
    "dxduKe = dxduKe.collect(Pprimer)\n",
    "dyduKe = dyduKe.collect(Pprimer)\n",
    "dxdvKe = dxdvKe.collect(Pprimer)\n",
    "dydvKe = dydvKe.collect(Pprimer)\n",
    "dxduKe = dxduKe.collect(P((u-x)**2+(v-y)**2))\n",
    "dyduKe = dyduKe.collect(P((u-x)**2+(v-y)**2))\n",
    "dxdvKe = dxdvKe.collect(P((u-x)**2+(v-y)**2))\n",
    "dydvKe = dydvKe.collect(P((u-x)**2+(v-y)**2))"
   ]
  },
  {
   "cell_type": "markdown",
   "metadata": {
    "id": "OVbVVlKmrk5U"
   },
   "source": [
    "Define the matrix $\\Gamma(z,w)$"
   ]
  },
  {
   "cell_type": "code",
   "execution_count": 10,
   "metadata": {
    "colab": {
     "base_uri": "https://localhost:8080/",
     "height": 159
    },
    "id": "wG56cPhaAL6a",
    "outputId": "202a2c9d-d37b-434d-8dae-2bf7d17c0598"
   },
   "outputs": [
    {
     "data": {
      "text/latex": [
       "$\\displaystyle \\left[\\begin{matrix}P{\\left(\\left(u - x\\right)^{2} + \\left(v - y\\right)^{2} \\right)} e^{i \\left(u y - v x\\right)} & \\left(i y P{\\left(\\left(u - x\\right)^{2} + \\left(v - y\\right)^{2} \\right)} + 2 \\left(u - x\\right) \\left. \\frac{d}{d \\xi_{1}} P{\\left(\\xi_{1} \\right)} \\right|_{\\substack{ \\xi_{1}=\\left(u - x\\right)^{2} + \\left(v - y\\right)^{2} }}\\right) e^{i \\left(u y - v x\\right)} & \\left(- i x P{\\left(\\left(u - x\\right)^{2} + \\left(v - y\\right)^{2} \\right)} + 2 \\left(v - y\\right) \\left. \\frac{d}{d \\xi_{1}} P{\\left(\\xi_{1} \\right)} \\right|_{\\substack{ \\xi_{1}=\\left(u - x\\right)^{2} + \\left(v - y\\right)^{2} }}\\right) e^{i \\left(u y - v x\\right)}\\\\- \\left(i v P{\\left(\\left(u - x\\right)^{2} + \\left(v - y\\right)^{2} \\right)} + 2 \\left(u - x\\right) \\left. \\frac{d}{d \\xi_{1}} P{\\left(\\xi_{1} \\right)} \\right|_{\\substack{ \\xi_{1}=\\left(u - x\\right)^{2} + \\left(v - y\\right)^{2} }}\\right) e^{i \\left(u y - v x\\right)} & \\left(v y P{\\left(\\left(u - x\\right)^{2} + \\left(v - y\\right)^{2} \\right)} - 4 \\left(u - x\\right)^{2} \\left. \\frac{d^{2}}{d \\xi_{1}^{2}} P{\\left(\\xi_{1} \\right)} \\right|_{\\substack{ \\xi_{1}=\\left(u - x\\right)^{2} + \\left(v - y\\right)^{2} }} + \\left(- 2 i v \\left(u - x\\right) - 2 i y \\left(u - x\\right) - 2\\right) \\left. \\frac{d}{d \\xi_{1}} P{\\left(\\xi_{1} \\right)} \\right|_{\\substack{ \\xi_{1}=\\left(u - x\\right)^{2} + \\left(v - y\\right)^{2} }}\\right) e^{i \\left(u y - v x\\right)} & \\left(- 4 \\left(u - x\\right) \\left(v - y\\right) \\left. \\frac{d^{2}}{d \\xi_{1}^{2}} P{\\left(\\xi_{1} \\right)} \\right|_{\\substack{ \\xi_{1}=\\left(u - x\\right)^{2} + \\left(v - y\\right)^{2} }} + \\left(- v x - i\\right) P{\\left(\\left(u - x\\right)^{2} + \\left(v - y\\right)^{2} \\right)} + \\left(- 2 i v \\left(v - y\\right) + 2 i x \\left(u - x\\right)\\right) \\left. \\frac{d}{d \\xi_{1}} P{\\left(\\xi_{1} \\right)} \\right|_{\\substack{ \\xi_{1}=\\left(u - x\\right)^{2} + \\left(v - y\\right)^{2} }}\\right) e^{i \\left(u y - v x\\right)}\\\\\\left(i u P{\\left(\\left(u - x\\right)^{2} + \\left(v - y\\right)^{2} \\right)} - 2 \\left(v - y\\right) \\left. \\frac{d}{d \\xi_{1}} P{\\left(\\xi_{1} \\right)} \\right|_{\\substack{ \\xi_{1}=\\left(u - x\\right)^{2} + \\left(v - y\\right)^{2} }}\\right) e^{i \\left(u y - v x\\right)} & \\left(- 4 \\left(u - x\\right) \\left(v - y\\right) \\left. \\frac{d^{2}}{d \\xi_{1}^{2}} P{\\left(\\xi_{1} \\right)} \\right|_{\\substack{ \\xi_{1}=\\left(u - x\\right)^{2} + \\left(v - y\\right)^{2} }} + \\left(- u y + i\\right) P{\\left(\\left(u - x\\right)^{2} + \\left(v - y\\right)^{2} \\right)} + \\left(2 i u \\left(u - x\\right) - 2 i y \\left(v - y\\right)\\right) \\left. \\frac{d}{d \\xi_{1}} P{\\left(\\xi_{1} \\right)} \\right|_{\\substack{ \\xi_{1}=\\left(u - x\\right)^{2} + \\left(v - y\\right)^{2} }}\\right) e^{i \\left(u y - v x\\right)} & \\left(u x P{\\left(\\left(u - x\\right)^{2} + \\left(v - y\\right)^{2} \\right)} - 4 \\left(v - y\\right)^{2} \\left. \\frac{d^{2}}{d \\xi_{1}^{2}} P{\\left(\\xi_{1} \\right)} \\right|_{\\substack{ \\xi_{1}=\\left(u - x\\right)^{2} + \\left(v - y\\right)^{2} }} + \\left(2 i u \\left(v - y\\right) + 2 i x \\left(v - y\\right) - 2\\right) \\left. \\frac{d}{d \\xi_{1}} P{\\left(\\xi_{1} \\right)} \\right|_{\\substack{ \\xi_{1}=\\left(u - x\\right)^{2} + \\left(v - y\\right)^{2} }}\\right) e^{i \\left(u y - v x\\right)}\\end{matrix}\\right]$"
      ],
      "text/plain": [
       "Matrix([\n",
       "[                                                                                     P((u - x)**2 + (v - y)**2)*exp(I*(u*y - v*x)),                                                                                                                          (I*y*P((u - x)**2 + (v - y)**2) + 2*(u - x)*Subs(Derivative(P(_xi_1), _xi_1), _xi_1, (u - x)**2 + (v - y)**2))*exp(I*(u*y - v*x)),                                                                                                                          (-I*x*P((u - x)**2 + (v - y)**2) + 2*(v - y)*Subs(Derivative(P(_xi_1), _xi_1), _xi_1, (u - x)**2 + (v - y)**2))*exp(I*(u*y - v*x))],\n",
       "[-(I*v*P((u - x)**2 + (v - y)**2) + 2*(u - x)*Subs(Derivative(P(_xi_1), _xi_1), _xi_1, (u - x)**2 + (v - y)**2))*exp(I*(u*y - v*x)),         (v*y*P((u - x)**2 + (v - y)**2) - 4*(u - x)**2*Subs(Derivative(P(_xi_1), (_xi_1, 2)), _xi_1, (u - x)**2 + (v - y)**2) + (-2*I*v*(u - x) - 2*I*y*(u - x) - 2)*Subs(Derivative(P(_xi_1), _xi_1), _xi_1, (u - x)**2 + (v - y)**2))*exp(I*(u*y - v*x)), (-4*(u - x)*(v - y)*Subs(Derivative(P(_xi_1), (_xi_1, 2)), _xi_1, (u - x)**2 + (v - y)**2) + (-v*x - I)*P((u - x)**2 + (v - y)**2) + (-2*I*v*(v - y) + 2*I*x*(u - x))*Subs(Derivative(P(_xi_1), _xi_1), _xi_1, (u - x)**2 + (v - y)**2))*exp(I*(u*y - v*x))],\n",
       "[ (I*u*P((u - x)**2 + (v - y)**2) - 2*(v - y)*Subs(Derivative(P(_xi_1), _xi_1), _xi_1, (u - x)**2 + (v - y)**2))*exp(I*(u*y - v*x)), (-4*(u - x)*(v - y)*Subs(Derivative(P(_xi_1), (_xi_1, 2)), _xi_1, (u - x)**2 + (v - y)**2) + (-u*y + I)*P((u - x)**2 + (v - y)**2) + (2*I*u*(u - x) - 2*I*y*(v - y))*Subs(Derivative(P(_xi_1), _xi_1), _xi_1, (u - x)**2 + (v - y)**2))*exp(I*(u*y - v*x)),           (u*x*P((u - x)**2 + (v - y)**2) - 4*(v - y)**2*Subs(Derivative(P(_xi_1), (_xi_1, 2)), _xi_1, (u - x)**2 + (v - y)**2) + (2*I*u*(v - y) + 2*I*x*(v - y) - 2)*Subs(Derivative(P(_xi_1), _xi_1), _xi_1, (u - x)**2 + (v - y)**2))*exp(I*(u*y - v*x))]])"
      ]
     },
     "execution_count": 10,
     "metadata": {},
     "output_type": "execute_result"
    }
   ],
   "source": [
    "g11 = Ke\n",
    "g12 = duKe\n",
    "g13 = dvKe\n",
    "g21 = dxKe\n",
    "g22 = dxduKe\n",
    "g23 = dxdvKe\n",
    "g31 = dyKe\n",
    "g32 = dyduKe\n",
    "g33 = dydvKe\n",
    "G = Matrix([[g11,g12, g13],[g21,g22,g23],[g31,g32,g33]])\n",
    "G"
   ]
  },
  {
   "cell_type": "markdown",
   "metadata": {
    "id": "laWv-fkuru1q"
   },
   "source": [
    "Define the covariance matrix of $\\big(F(z), F^{(1,0)}(z), F^{(0,1)}(z), F(w), F^{(1,0)}(w), F^{(0,1)}(w)\\big)$ by using the blocks $\\Gamma(z,z)$, $\\Gamma(z,w)$, $\\Gamma(w,z)$, and $\\Gamma(w,w)$"
   ]
  },
  {
   "cell_type": "code",
   "execution_count": 11,
   "metadata": {
    "colab": {
     "base_uri": "https://localhost:8080/",
     "height": 281
    },
    "id": "NfTIT4MpBJbm",
    "outputId": "b5dadbea-9e5e-4f1c-ba5f-21b3d1ea0e79"
   },
   "outputs": [
    {
     "data": {
      "text/latex": [
       "$\\displaystyle \\left[\\begin{matrix}1 & i y & - i x & P{\\left(r^{2} \\right)} e^{i \\left(u y - v x\\right)} & \\left(i y P{\\left(r^{2} \\right)} + 2 \\left(u - x\\right) \\left. \\frac{d}{d \\xi_{1}} P{\\left(\\xi_{1} \\right)} \\right|_{\\substack{ \\xi_{1}=r^{2} }}\\right) e^{i \\left(u y - v x\\right)} & \\left(- i x P{\\left(r^{2} \\right)} + 2 \\left(v - y\\right) \\left. \\frac{d}{d \\xi_{1}} P{\\left(\\xi_{1} \\right)} \\right|_{\\substack{ \\xi_{1}=r^{2} }}\\right) e^{i \\left(u y - v x\\right)}\\\\- i y & y^{2} - 2 \\left. \\frac{d}{d \\xi_{1}} P{\\left(\\xi_{1} \\right)} \\right|_{\\substack{ \\xi_{1}=0 }} & - x y - i & - \\left(i v P{\\left(r^{2} \\right)} + 2 \\left(u - x\\right) \\left. \\frac{d}{d \\xi_{1}} P{\\left(\\xi_{1} \\right)} \\right|_{\\substack{ \\xi_{1}=r^{2} }}\\right) e^{i \\left(u y - v x\\right)} & \\left(v y P{\\left(r^{2} \\right)} - 4 \\left(u - x\\right)^{2} \\left. \\frac{d^{2}}{d \\xi_{1}^{2}} P{\\left(\\xi_{1} \\right)} \\right|_{\\substack{ \\xi_{1}=r^{2} }} + \\left(- 2 i v \\left(u - x\\right) - 2 i y \\left(u - x\\right) - 2\\right) \\left. \\frac{d}{d \\xi_{1}} P{\\left(\\xi_{1} \\right)} \\right|_{\\substack{ \\xi_{1}=r^{2} }}\\right) e^{i \\left(u y - v x\\right)} & \\left(- 4 \\left(u - x\\right) \\left(v - y\\right) \\left. \\frac{d^{2}}{d \\xi_{1}^{2}} P{\\left(\\xi_{1} \\right)} \\right|_{\\substack{ \\xi_{1}=r^{2} }} + \\left(- v x - i\\right) P{\\left(r^{2} \\right)} + \\left(- 2 i v \\left(v - y\\right) + 2 i x \\left(u - x\\right)\\right) \\left. \\frac{d}{d \\xi_{1}} P{\\left(\\xi_{1} \\right)} \\right|_{\\substack{ \\xi_{1}=r^{2} }}\\right) e^{i \\left(u y - v x\\right)}\\\\i x & - x y + i & x^{2} - 2 \\left. \\frac{d}{d \\xi_{1}} P{\\left(\\xi_{1} \\right)} \\right|_{\\substack{ \\xi_{1}=0 }} & \\left(i u P{\\left(r^{2} \\right)} - 2 \\left(v - y\\right) \\left. \\frac{d}{d \\xi_{1}} P{\\left(\\xi_{1} \\right)} \\right|_{\\substack{ \\xi_{1}=r^{2} }}\\right) e^{i \\left(u y - v x\\right)} & \\left(- 4 \\left(u - x\\right) \\left(v - y\\right) \\left. \\frac{d^{2}}{d \\xi_{1}^{2}} P{\\left(\\xi_{1} \\right)} \\right|_{\\substack{ \\xi_{1}=r^{2} }} + \\left(- u y + i\\right) P{\\left(r^{2} \\right)} + \\left(2 i u \\left(u - x\\right) - 2 i y \\left(v - y\\right)\\right) \\left. \\frac{d}{d \\xi_{1}} P{\\left(\\xi_{1} \\right)} \\right|_{\\substack{ \\xi_{1}=r^{2} }}\\right) e^{i \\left(u y - v x\\right)} & \\left(u x P{\\left(r^{2} \\right)} - 4 \\left(v - y\\right)^{2} \\left. \\frac{d^{2}}{d \\xi_{1}^{2}} P{\\left(\\xi_{1} \\right)} \\right|_{\\substack{ \\xi_{1}=r^{2} }} + \\left(2 i u \\left(v - y\\right) + 2 i x \\left(v - y\\right) - 2\\right) \\left. \\frac{d}{d \\xi_{1}} P{\\left(\\xi_{1} \\right)} \\right|_{\\substack{ \\xi_{1}=r^{2} }}\\right) e^{i \\left(u y - v x\\right)}\\\\P{\\left(r^{2} \\right)} e^{i \\left(- u y + v x\\right)} & \\left(i v P{\\left(r^{2} \\right)} + 2 \\left(- u + x\\right) \\left. \\frac{d}{d \\xi_{1}} P{\\left(\\xi_{1} \\right)} \\right|_{\\substack{ \\xi_{1}=r^{2} }}\\right) e^{i \\left(- u y + v x\\right)} & \\left(- i u P{\\left(r^{2} \\right)} + 2 \\left(- v + y\\right) \\left. \\frac{d}{d \\xi_{1}} P{\\left(\\xi_{1} \\right)} \\right|_{\\substack{ \\xi_{1}=r^{2} }}\\right) e^{i \\left(- u y + v x\\right)} & 1 & i v & - i u\\\\- \\left(i y P{\\left(r^{2} \\right)} + 2 \\left(- u + x\\right) \\left. \\frac{d}{d \\xi_{1}} P{\\left(\\xi_{1} \\right)} \\right|_{\\substack{ \\xi_{1}=r^{2} }}\\right) e^{i \\left(- u y + v x\\right)} & \\left(v y P{\\left(r^{2} \\right)} - 4 \\left(- u + x\\right)^{2} \\left. \\frac{d^{2}}{d \\xi_{1}^{2}} P{\\left(\\xi_{1} \\right)} \\right|_{\\substack{ \\xi_{1}=r^{2} }} + \\left(- 2 i v \\left(- u + x\\right) - 2 i y \\left(- u + x\\right) - 2\\right) \\left. \\frac{d}{d \\xi_{1}} P{\\left(\\xi_{1} \\right)} \\right|_{\\substack{ \\xi_{1}=r^{2} }}\\right) e^{i \\left(- u y + v x\\right)} & \\left(- 4 \\left(- u + x\\right) \\left(- v + y\\right) \\left. \\frac{d^{2}}{d \\xi_{1}^{2}} P{\\left(\\xi_{1} \\right)} \\right|_{\\substack{ \\xi_{1}=r^{2} }} + \\left(- u y - i\\right) P{\\left(r^{2} \\right)} + \\left(2 i u \\left(- u + x\\right) - 2 i y \\left(- v + y\\right)\\right) \\left. \\frac{d}{d \\xi_{1}} P{\\left(\\xi_{1} \\right)} \\right|_{\\substack{ \\xi_{1}=r^{2} }}\\right) e^{i \\left(- u y + v x\\right)} & - i v & v^{2} - 2 \\left. \\frac{d}{d \\xi_{1}} P{\\left(\\xi_{1} \\right)} \\right|_{\\substack{ \\xi_{1}=0 }} & - u v - i\\\\\\left(i x P{\\left(r^{2} \\right)} - 2 \\left(- v + y\\right) \\left. \\frac{d}{d \\xi_{1}} P{\\left(\\xi_{1} \\right)} \\right|_{\\substack{ \\xi_{1}=r^{2} }}\\right) e^{i \\left(- u y + v x\\right)} & \\left(- 4 \\left(- u + x\\right) \\left(- v + y\\right) \\left. \\frac{d^{2}}{d \\xi_{1}^{2}} P{\\left(\\xi_{1} \\right)} \\right|_{\\substack{ \\xi_{1}=r^{2} }} + \\left(- v x + i\\right) P{\\left(r^{2} \\right)} + \\left(- 2 i v \\left(- v + y\\right) + 2 i x \\left(- u + x\\right)\\right) \\left. \\frac{d}{d \\xi_{1}} P{\\left(\\xi_{1} \\right)} \\right|_{\\substack{ \\xi_{1}=r^{2} }}\\right) e^{i \\left(- u y + v x\\right)} & \\left(u x P{\\left(r^{2} \\right)} - 4 \\left(- v + y\\right)^{2} \\left. \\frac{d^{2}}{d \\xi_{1}^{2}} P{\\left(\\xi_{1} \\right)} \\right|_{\\substack{ \\xi_{1}=r^{2} }} + \\left(2 i u \\left(- v + y\\right) + 2 i x \\left(- v + y\\right) - 2\\right) \\left. \\frac{d}{d \\xi_{1}} P{\\left(\\xi_{1} \\right)} \\right|_{\\substack{ \\xi_{1}=r^{2} }}\\right) e^{i \\left(- u y + v x\\right)} & i u & - u v + i & u^{2} - 2 \\left. \\frac{d}{d \\xi_{1}} P{\\left(\\xi_{1} \\right)} \\right|_{\\substack{ \\xi_{1}=0 }}\\end{matrix}\\right]$"
      ],
      "text/plain": [
       "Matrix([\n",
       "[                                                                                             1,                                                                                                                                                                                                     I*y,                                                                                                                                                                                                   -I*x,                                                                   P(r**2)*exp(I*(u*y - v*x)),                                                                                                       (I*y*P(r**2) + 2*(u - x)*Subs(Derivative(P(_xi_1), _xi_1), _xi_1, r**2))*exp(I*(u*y - v*x)),                                                                                                       (-I*x*P(r**2) + 2*(v - y)*Subs(Derivative(P(_xi_1), _xi_1), _xi_1, r**2))*exp(I*(u*y - v*x))],\n",
       "[                                                                                          -I*y,                                                                                                                                                    y**2 - 2*Subs(Derivative(P(_xi_1), _xi_1), _xi_1, 0),                                                                                                                                                                                               -x*y - I, -(I*v*P(r**2) + 2*(u - x)*Subs(Derivative(P(_xi_1), _xi_1), _xi_1, r**2))*exp(I*(u*y - v*x)),         (v*y*P(r**2) - 4*(u - x)**2*Subs(Derivative(P(_xi_1), (_xi_1, 2)), _xi_1, r**2) + (-2*I*v*(u - x) - 2*I*y*(u - x) - 2)*Subs(Derivative(P(_xi_1), _xi_1), _xi_1, r**2))*exp(I*(u*y - v*x)), (-4*(u - x)*(v - y)*Subs(Derivative(P(_xi_1), (_xi_1, 2)), _xi_1, r**2) + (-v*x - I)*P(r**2) + (-2*I*v*(v - y) + 2*I*x*(u - x))*Subs(Derivative(P(_xi_1), _xi_1), _xi_1, r**2))*exp(I*(u*y - v*x))],\n",
       "[                                                                                           I*x,                                                                                                                                                                                                -x*y + I,                                                                                                                                                   x**2 - 2*Subs(Derivative(P(_xi_1), _xi_1), _xi_1, 0),  (I*u*P(r**2) - 2*(v - y)*Subs(Derivative(P(_xi_1), _xi_1), _xi_1, r**2))*exp(I*(u*y - v*x)), (-4*(u - x)*(v - y)*Subs(Derivative(P(_xi_1), (_xi_1, 2)), _xi_1, r**2) + (-u*y + I)*P(r**2) + (2*I*u*(u - x) - 2*I*y*(v - y))*Subs(Derivative(P(_xi_1), _xi_1), _xi_1, r**2))*exp(I*(u*y - v*x)),           (u*x*P(r**2) - 4*(v - y)**2*Subs(Derivative(P(_xi_1), (_xi_1, 2)), _xi_1, r**2) + (2*I*u*(v - y) + 2*I*x*(v - y) - 2)*Subs(Derivative(P(_xi_1), _xi_1), _xi_1, r**2))*exp(I*(u*y - v*x))],\n",
       "[                                                                   P(r**2)*exp(I*(-u*y + v*x)),                                                                                                           (I*v*P(r**2) + 2*(-u + x)*Subs(Derivative(P(_xi_1), _xi_1), _xi_1, r**2))*exp(I*(-u*y + v*x)),                                                                                                         (-I*u*P(r**2) + 2*(-v + y)*Subs(Derivative(P(_xi_1), _xi_1), _xi_1, r**2))*exp(I*(-u*y + v*x)),                                                                                            1,                                                                                                                                                                                               I*v,                                                                                                                                                                                               -I*u],\n",
       "[-(I*y*P(r**2) + 2*(-u + x)*Subs(Derivative(P(_xi_1), _xi_1), _xi_1, r**2))*exp(I*(-u*y + v*x)),           (v*y*P(r**2) - 4*(-u + x)**2*Subs(Derivative(P(_xi_1), (_xi_1, 2)), _xi_1, r**2) + (-2*I*v*(-u + x) - 2*I*y*(-u + x) - 2)*Subs(Derivative(P(_xi_1), _xi_1), _xi_1, r**2))*exp(I*(-u*y + v*x)), (-4*(-u + x)*(-v + y)*Subs(Derivative(P(_xi_1), (_xi_1, 2)), _xi_1, r**2) + (-u*y - I)*P(r**2) + (2*I*u*(-u + x) - 2*I*y*(-v + y))*Subs(Derivative(P(_xi_1), _xi_1), _xi_1, r**2))*exp(I*(-u*y + v*x)),                                                                                         -I*v,                                                                                                                                              v**2 - 2*Subs(Derivative(P(_xi_1), _xi_1), _xi_1, 0),                                                                                                                                                                                           -u*v - I],\n",
       "[ (I*x*P(r**2) - 2*(-v + y)*Subs(Derivative(P(_xi_1), _xi_1), _xi_1, r**2))*exp(I*(-u*y + v*x)), (-4*(-u + x)*(-v + y)*Subs(Derivative(P(_xi_1), (_xi_1, 2)), _xi_1, r**2) + (-v*x + I)*P(r**2) + (-2*I*v*(-v + y) + 2*I*x*(-u + x))*Subs(Derivative(P(_xi_1), _xi_1), _xi_1, r**2))*exp(I*(-u*y + v*x)),           (u*x*P(r**2) - 4*(-v + y)**2*Subs(Derivative(P(_xi_1), (_xi_1, 2)), _xi_1, r**2) + (2*I*u*(-v + y) + 2*I*x*(-v + y) - 2)*Subs(Derivative(P(_xi_1), _xi_1), _xi_1, r**2))*exp(I*(-u*y + v*x)),                                                                                          I*u,                                                                                                                                                                                          -u*v + I,                                                                                                                                               u**2 - 2*Subs(Derivative(P(_xi_1), _xi_1), _xi_1, 0)]])"
      ]
     },
     "execution_count": 11,
     "metadata": {},
     "output_type": "execute_result"
    }
   ],
   "source": [
    "Gbig = Matrix(BlockMatrix([[G.subs(allz), G],[G.subs(switchzw),G.subs(allw)]]))\n",
    "Gbig = Gbig.subs(subsP0)\n",
    "Gbig = Gbig.subs(subsr)\n",
    "Gbig"
   ]
  },
  {
   "cell_type": "markdown",
   "metadata": {
    "id": "l3PWx_fZsYmj"
   },
   "source": [
    "To calculate the covariance matrix $\\Omega=A-B C^{-1} B^*$, separate the big matrix above into blocks"
   ]
  },
  {
   "cell_type": "code",
   "execution_count": 12,
   "metadata": {
    "colab": {
     "base_uri": "https://localhost:8080/",
     "height": 200
    },
    "id": "zEmCcHhNEb_v",
    "outputId": "c901010c-98f9-4d5d-a214-b6d7f4cbd7c5"
   },
   "outputs": [
    {
     "data": {
      "text/latex": [
       "$\\displaystyle \\left[\\begin{matrix}y^{2} - 2 \\left. \\frac{d}{d \\xi_{1}} P{\\left(\\xi_{1} \\right)} \\right|_{\\substack{ \\xi_{1}=0 }} & - x y - i & \\left(v y P{\\left(r^{2} \\right)} - 4 \\left(u - x\\right)^{2} \\left. \\frac{d^{2}}{d \\xi_{1}^{2}} P{\\left(\\xi_{1} \\right)} \\right|_{\\substack{ \\xi_{1}=r^{2} }} + \\left(- 2 i v \\left(u - x\\right) - 2 i y \\left(u - x\\right) - 2\\right) \\left. \\frac{d}{d \\xi_{1}} P{\\left(\\xi_{1} \\right)} \\right|_{\\substack{ \\xi_{1}=r^{2} }}\\right) e^{i \\left(u y - v x\\right)} & \\left(- 4 \\left(u - x\\right) \\left(v - y\\right) \\left. \\frac{d^{2}}{d \\xi_{1}^{2}} P{\\left(\\xi_{1} \\right)} \\right|_{\\substack{ \\xi_{1}=r^{2} }} + \\left(- v x - i\\right) P{\\left(r^{2} \\right)} + \\left(- 2 i v \\left(v - y\\right) + 2 i x \\left(u - x\\right)\\right) \\left. \\frac{d}{d \\xi_{1}} P{\\left(\\xi_{1} \\right)} \\right|_{\\substack{ \\xi_{1}=r^{2} }}\\right) e^{i \\left(u y - v x\\right)}\\\\- x y + i & x^{2} - 2 \\left. \\frac{d}{d \\xi_{1}} P{\\left(\\xi_{1} \\right)} \\right|_{\\substack{ \\xi_{1}=0 }} & \\left(- 4 \\left(u - x\\right) \\left(v - y\\right) \\left. \\frac{d^{2}}{d \\xi_{1}^{2}} P{\\left(\\xi_{1} \\right)} \\right|_{\\substack{ \\xi_{1}=r^{2} }} + \\left(- u y + i\\right) P{\\left(r^{2} \\right)} + \\left(2 i u \\left(u - x\\right) - 2 i y \\left(v - y\\right)\\right) \\left. \\frac{d}{d \\xi_{1}} P{\\left(\\xi_{1} \\right)} \\right|_{\\substack{ \\xi_{1}=r^{2} }}\\right) e^{i \\left(u y - v x\\right)} & \\left(u x P{\\left(r^{2} \\right)} - 4 \\left(v - y\\right)^{2} \\left. \\frac{d^{2}}{d \\xi_{1}^{2}} P{\\left(\\xi_{1} \\right)} \\right|_{\\substack{ \\xi_{1}=r^{2} }} + \\left(2 i u \\left(v - y\\right) + 2 i x \\left(v - y\\right) - 2\\right) \\left. \\frac{d}{d \\xi_{1}} P{\\left(\\xi_{1} \\right)} \\right|_{\\substack{ \\xi_{1}=r^{2} }}\\right) e^{i \\left(u y - v x\\right)}\\\\\\left(v y P{\\left(r^{2} \\right)} - 4 \\left(- u + x\\right)^{2} \\left. \\frac{d^{2}}{d \\xi_{1}^{2}} P{\\left(\\xi_{1} \\right)} \\right|_{\\substack{ \\xi_{1}=r^{2} }} + \\left(- 2 i v \\left(- u + x\\right) - 2 i y \\left(- u + x\\right) - 2\\right) \\left. \\frac{d}{d \\xi_{1}} P{\\left(\\xi_{1} \\right)} \\right|_{\\substack{ \\xi_{1}=r^{2} }}\\right) e^{i \\left(- u y + v x\\right)} & \\left(- 4 \\left(- u + x\\right) \\left(- v + y\\right) \\left. \\frac{d^{2}}{d \\xi_{1}^{2}} P{\\left(\\xi_{1} \\right)} \\right|_{\\substack{ \\xi_{1}=r^{2} }} + \\left(- u y - i\\right) P{\\left(r^{2} \\right)} + \\left(2 i u \\left(- u + x\\right) - 2 i y \\left(- v + y\\right)\\right) \\left. \\frac{d}{d \\xi_{1}} P{\\left(\\xi_{1} \\right)} \\right|_{\\substack{ \\xi_{1}=r^{2} }}\\right) e^{i \\left(- u y + v x\\right)} & v^{2} - 2 \\left. \\frac{d}{d \\xi_{1}} P{\\left(\\xi_{1} \\right)} \\right|_{\\substack{ \\xi_{1}=0 }} & - u v - i\\\\\\left(- 4 \\left(- u + x\\right) \\left(- v + y\\right) \\left. \\frac{d^{2}}{d \\xi_{1}^{2}} P{\\left(\\xi_{1} \\right)} \\right|_{\\substack{ \\xi_{1}=r^{2} }} + \\left(- v x + i\\right) P{\\left(r^{2} \\right)} + \\left(- 2 i v \\left(- v + y\\right) + 2 i x \\left(- u + x\\right)\\right) \\left. \\frac{d}{d \\xi_{1}} P{\\left(\\xi_{1} \\right)} \\right|_{\\substack{ \\xi_{1}=r^{2} }}\\right) e^{i \\left(- u y + v x\\right)} & \\left(u x P{\\left(r^{2} \\right)} - 4 \\left(- v + y\\right)^{2} \\left. \\frac{d^{2}}{d \\xi_{1}^{2}} P{\\left(\\xi_{1} \\right)} \\right|_{\\substack{ \\xi_{1}=r^{2} }} + \\left(2 i u \\left(- v + y\\right) + 2 i x \\left(- v + y\\right) - 2\\right) \\left. \\frac{d}{d \\xi_{1}} P{\\left(\\xi_{1} \\right)} \\right|_{\\substack{ \\xi_{1}=r^{2} }}\\right) e^{i \\left(- u y + v x\\right)} & - u v + i & u^{2} - 2 \\left. \\frac{d}{d \\xi_{1}} P{\\left(\\xi_{1} \\right)} \\right|_{\\substack{ \\xi_{1}=0 }}\\end{matrix}\\right]$"
      ],
      "text/plain": [
       "Matrix([\n",
       "[                                                                                                                                                   y**2 - 2*Subs(Derivative(P(_xi_1), _xi_1), _xi_1, 0),                                                                                                                                                                                               -x*y - I,         (v*y*P(r**2) - 4*(u - x)**2*Subs(Derivative(P(_xi_1), (_xi_1, 2)), _xi_1, r**2) + (-2*I*v*(u - x) - 2*I*y*(u - x) - 2)*Subs(Derivative(P(_xi_1), _xi_1), _xi_1, r**2))*exp(I*(u*y - v*x)), (-4*(u - x)*(v - y)*Subs(Derivative(P(_xi_1), (_xi_1, 2)), _xi_1, r**2) + (-v*x - I)*P(r**2) + (-2*I*v*(v - y) + 2*I*x*(u - x))*Subs(Derivative(P(_xi_1), _xi_1), _xi_1, r**2))*exp(I*(u*y - v*x))],\n",
       "[                                                                                                                                                                                               -x*y + I,                                                                                                                                                   x**2 - 2*Subs(Derivative(P(_xi_1), _xi_1), _xi_1, 0), (-4*(u - x)*(v - y)*Subs(Derivative(P(_xi_1), (_xi_1, 2)), _xi_1, r**2) + (-u*y + I)*P(r**2) + (2*I*u*(u - x) - 2*I*y*(v - y))*Subs(Derivative(P(_xi_1), _xi_1), _xi_1, r**2))*exp(I*(u*y - v*x)),           (u*x*P(r**2) - 4*(v - y)**2*Subs(Derivative(P(_xi_1), (_xi_1, 2)), _xi_1, r**2) + (2*I*u*(v - y) + 2*I*x*(v - y) - 2)*Subs(Derivative(P(_xi_1), _xi_1), _xi_1, r**2))*exp(I*(u*y - v*x))],\n",
       "[          (v*y*P(r**2) - 4*(-u + x)**2*Subs(Derivative(P(_xi_1), (_xi_1, 2)), _xi_1, r**2) + (-2*I*v*(-u + x) - 2*I*y*(-u + x) - 2)*Subs(Derivative(P(_xi_1), _xi_1), _xi_1, r**2))*exp(I*(-u*y + v*x)), (-4*(-u + x)*(-v + y)*Subs(Derivative(P(_xi_1), (_xi_1, 2)), _xi_1, r**2) + (-u*y - I)*P(r**2) + (2*I*u*(-u + x) - 2*I*y*(-v + y))*Subs(Derivative(P(_xi_1), _xi_1), _xi_1, r**2))*exp(I*(-u*y + v*x)),                                                                                                                                              v**2 - 2*Subs(Derivative(P(_xi_1), _xi_1), _xi_1, 0),                                                                                                                                                                                           -u*v - I],\n",
       "[(-4*(-u + x)*(-v + y)*Subs(Derivative(P(_xi_1), (_xi_1, 2)), _xi_1, r**2) + (-v*x + I)*P(r**2) + (-2*I*v*(-v + y) + 2*I*x*(-u + x))*Subs(Derivative(P(_xi_1), _xi_1), _xi_1, r**2))*exp(I*(-u*y + v*x)),           (u*x*P(r**2) - 4*(-v + y)**2*Subs(Derivative(P(_xi_1), (_xi_1, 2)), _xi_1, r**2) + (2*I*u*(-v + y) + 2*I*x*(-v + y) - 2)*Subs(Derivative(P(_xi_1), _xi_1), _xi_1, r**2))*exp(I*(-u*y + v*x)),                                                                                                                                                                                          -u*v + I,                                                                                                                                               u**2 - 2*Subs(Derivative(P(_xi_1), _xi_1), _xi_1, 0)]])"
      ]
     },
     "execution_count": 12,
     "metadata": {},
     "output_type": "execute_result"
    }
   ],
   "source": [
    "A = Matrix(BlockMatrix([[Gbig[1:3,1:3], Gbig[1:3,4:6]],[Gbig[4:6,1:3],Gbig[4:6,4:6]]]))\n",
    "A"
   ]
  },
  {
   "cell_type": "code",
   "execution_count": 13,
   "metadata": {
    "colab": {
     "base_uri": "https://localhost:8080/",
     "height": 180
    },
    "id": "vo-wnjW3GzYu",
    "outputId": "e67e6c67-7564-49f3-a605-9db2b1265df7"
   },
   "outputs": [
    {
     "data": {
      "text/latex": [
       "$\\displaystyle \\left[\\begin{matrix}- i y & - \\left(i v P{\\left(r^{2} \\right)} + 2 \\left(u - x\\right) \\left. \\frac{d}{d \\xi_{1}} P{\\left(\\xi_{1} \\right)} \\right|_{\\substack{ \\xi_{1}=r^{2} }}\\right) e^{i \\left(u y - v x\\right)}\\\\i x & \\left(i u P{\\left(r^{2} \\right)} - 2 \\left(v - y\\right) \\left. \\frac{d}{d \\xi_{1}} P{\\left(\\xi_{1} \\right)} \\right|_{\\substack{ \\xi_{1}=r^{2} }}\\right) e^{i \\left(u y - v x\\right)}\\\\- \\left(i y P{\\left(r^{2} \\right)} + 2 \\left(- u + x\\right) \\left. \\frac{d}{d \\xi_{1}} P{\\left(\\xi_{1} \\right)} \\right|_{\\substack{ \\xi_{1}=r^{2} }}\\right) e^{i \\left(- u y + v x\\right)} & - i v\\\\\\left(i x P{\\left(r^{2} \\right)} - 2 \\left(- v + y\\right) \\left. \\frac{d}{d \\xi_{1}} P{\\left(\\xi_{1} \\right)} \\right|_{\\substack{ \\xi_{1}=r^{2} }}\\right) e^{i \\left(- u y + v x\\right)} & i u\\end{matrix}\\right]$"
      ],
      "text/plain": [
       "Matrix([\n",
       "[                                                                                          -I*y, -(I*v*P(r**2) + 2*(u - x)*Subs(Derivative(P(_xi_1), _xi_1), _xi_1, r**2))*exp(I*(u*y - v*x))],\n",
       "[                                                                                           I*x,  (I*u*P(r**2) - 2*(v - y)*Subs(Derivative(P(_xi_1), _xi_1), _xi_1, r**2))*exp(I*(u*y - v*x))],\n",
       "[-(I*y*P(r**2) + 2*(-u + x)*Subs(Derivative(P(_xi_1), _xi_1), _xi_1, r**2))*exp(I*(-u*y + v*x)),                                                                                         -I*v],\n",
       "[ (I*x*P(r**2) - 2*(-v + y)*Subs(Derivative(P(_xi_1), _xi_1), _xi_1, r**2))*exp(I*(-u*y + v*x)),                                                                                          I*u]])"
      ]
     },
     "execution_count": 13,
     "metadata": {},
     "output_type": "execute_result"
    }
   ],
   "source": [
    "B = Matrix(BlockMatrix([[Gbig[1:3,0:1], Gbig[1:3,3:4]],[Gbig[4:6,0:1],Gbig[4:6,3:4]]]))\n",
    "B"
   ]
  },
  {
   "cell_type": "code",
   "execution_count": 14,
   "metadata": {
    "colab": {
     "base_uri": "https://localhost:8080/",
     "height": 118
    },
    "id": "b5wfzvYfHftd",
    "outputId": "d7015fb5-b06c-44e4-da57-df6a01f17cb1"
   },
   "outputs": [
    {
     "data": {
      "text/latex": [
       "$\\displaystyle \\left[\\begin{matrix}i y & - i x & \\left(i y P{\\left(r^{2} \\right)} + 2 \\left(u - x\\right) \\left. \\frac{d}{d \\xi_{1}} P{\\left(\\xi_{1} \\right)} \\right|_{\\substack{ \\xi_{1}=r^{2} }}\\right) e^{i \\left(u y - v x\\right)} & \\left(- i x P{\\left(r^{2} \\right)} + 2 \\left(v - y\\right) \\left. \\frac{d}{d \\xi_{1}} P{\\left(\\xi_{1} \\right)} \\right|_{\\substack{ \\xi_{1}=r^{2} }}\\right) e^{i \\left(u y - v x\\right)}\\\\\\left(i v P{\\left(r^{2} \\right)} + 2 \\left(- u + x\\right) \\left. \\frac{d}{d \\xi_{1}} P{\\left(\\xi_{1} \\right)} \\right|_{\\substack{ \\xi_{1}=r^{2} }}\\right) e^{i \\left(- u y + v x\\right)} & \\left(- i u P{\\left(r^{2} \\right)} + 2 \\left(- v + y\\right) \\left. \\frac{d}{d \\xi_{1}} P{\\left(\\xi_{1} \\right)} \\right|_{\\substack{ \\xi_{1}=r^{2} }}\\right) e^{i \\left(- u y + v x\\right)} & i v & - i u\\end{matrix}\\right]$"
      ],
      "text/plain": [
       "Matrix([\n",
       "[                                                                                          I*y,                                                                                           -I*x, (I*y*P(r**2) + 2*(u - x)*Subs(Derivative(P(_xi_1), _xi_1), _xi_1, r**2))*exp(I*(u*y - v*x)), (-I*x*P(r**2) + 2*(v - y)*Subs(Derivative(P(_xi_1), _xi_1), _xi_1, r**2))*exp(I*(u*y - v*x))],\n",
       "[(I*v*P(r**2) + 2*(-u + x)*Subs(Derivative(P(_xi_1), _xi_1), _xi_1, r**2))*exp(I*(-u*y + v*x)), (-I*u*P(r**2) + 2*(-v + y)*Subs(Derivative(P(_xi_1), _xi_1), _xi_1, r**2))*exp(I*(-u*y + v*x)),                                                                                         I*v,                                                                                         -I*u]])"
      ]
     },
     "execution_count": 14,
     "metadata": {},
     "output_type": "execute_result"
    }
   ],
   "source": [
    "Bconj = Matrix(BlockMatrix([[Gbig[0:1,1:3], Gbig[0:1,4:6]],[Gbig[3:4,1:3],Gbig[3:4,4:6]]]))\n",
    "Bconj"
   ]
  },
  {
   "cell_type": "code",
   "execution_count": 15,
   "metadata": {
    "colab": {
     "base_uri": "https://localhost:8080/",
     "height": 59
    },
    "id": "WEdkdV-ZIf6v",
    "outputId": "05b4075a-2403-4cb4-9ee7-ba3fe55de389"
   },
   "outputs": [
    {
     "data": {
      "text/latex": [
       "$\\displaystyle \\left[\\begin{matrix}1 & P{\\left(r^{2} \\right)} e^{i \\left(u y - v x\\right)}\\\\P{\\left(r^{2} \\right)} e^{i \\left(- u y + v x\\right)} & 1\\end{matrix}\\right]$"
      ],
      "text/plain": [
       "Matrix([\n",
       "[                          1, P(r**2)*exp(I*(u*y - v*x))],\n",
       "[P(r**2)*exp(I*(-u*y + v*x)),                          1]])"
      ]
     },
     "execution_count": 15,
     "metadata": {},
     "output_type": "execute_result"
    }
   ],
   "source": [
    "C = Matrix(BlockMatrix([[Gbig[0:1,0:1], Gbig[0:1,3:4]],[Gbig[3:4,0:1],Gbig[3:4,3:4]]]))\n",
    "C"
   ]
  },
  {
   "cell_type": "code",
   "execution_count": 16,
   "metadata": {
    "colab": {
     "base_uri": "https://localhost:8080/",
     "height": 287
    },
    "id": "6Hqq2xDtYFix",
    "outputId": "b6e08d90-debc-4b35-d7ef-2a2ca83f5ee4"
   },
   "outputs": [
    {
     "data": {
      "text/latex": [
       "$\\displaystyle \\left[\\begin{matrix}y^{2} - i y \\left(- \\frac{i y}{- P^{2}{\\left(r^{2} \\right)} e^{i \\left(- u y + v x\\right)} e^{i \\left(u y - v x\\right)} + 1} + \\frac{\\left(i v P{\\left(r^{2} \\right)} + 2 \\left(u - x\\right) \\left. \\frac{d}{d \\xi_{1}} P{\\left(\\xi_{1} \\right)} \\right|_{\\substack{ \\xi_{1}=r^{2} }}\\right) P{\\left(r^{2} \\right)} e^{i \\left(- u y + v x\\right)} e^{i \\left(u y - v x\\right)}}{- P^{2}{\\left(r^{2} \\right)} e^{i \\left(- u y + v x\\right)} e^{i \\left(u y - v x\\right)} + 1}\\right) - \\left(i v P{\\left(r^{2} \\right)} + 2 \\left(- u + x\\right) \\left. \\frac{d}{d \\xi_{1}} P{\\left(\\xi_{1} \\right)} \\right|_{\\substack{ \\xi_{1}=r^{2} }}\\right) \\left(\\frac{i y P{\\left(r^{2} \\right)} e^{i \\left(u y - v x\\right)}}{- P^{2}{\\left(r^{2} \\right)} e^{i \\left(- u y + v x\\right)} e^{i \\left(u y - v x\\right)} + 1} - \\frac{\\left(i v P{\\left(r^{2} \\right)} + 2 \\left(u - x\\right) \\left. \\frac{d}{d \\xi_{1}} P{\\left(\\xi_{1} \\right)} \\right|_{\\substack{ \\xi_{1}=r^{2} }}\\right) e^{i \\left(u y - v x\\right)}}{- P^{2}{\\left(r^{2} \\right)} e^{i \\left(- u y + v x\\right)} e^{i \\left(u y - v x\\right)} + 1}\\right) e^{i \\left(- u y + v x\\right)} - 2 \\left. \\frac{d}{d \\xi_{1}} P{\\left(\\xi_{1} \\right)} \\right|_{\\substack{ \\xi_{1}=0 }} & - x y + i x \\left(- \\frac{i y}{- P^{2}{\\left(r^{2} \\right)} e^{i \\left(- u y + v x\\right)} e^{i \\left(u y - v x\\right)} + 1} + \\frac{\\left(i v P{\\left(r^{2} \\right)} + 2 \\left(u - x\\right) \\left. \\frac{d}{d \\xi_{1}} P{\\left(\\xi_{1} \\right)} \\right|_{\\substack{ \\xi_{1}=r^{2} }}\\right) P{\\left(r^{2} \\right)} e^{i \\left(- u y + v x\\right)} e^{i \\left(u y - v x\\right)}}{- P^{2}{\\left(r^{2} \\right)} e^{i \\left(- u y + v x\\right)} e^{i \\left(u y - v x\\right)} + 1}\\right) - \\left(- i u P{\\left(r^{2} \\right)} + 2 \\left(- v + y\\right) \\left. \\frac{d}{d \\xi_{1}} P{\\left(\\xi_{1} \\right)} \\right|_{\\substack{ \\xi_{1}=r^{2} }}\\right) \\left(\\frac{i y P{\\left(r^{2} \\right)} e^{i \\left(u y - v x\\right)}}{- P^{2}{\\left(r^{2} \\right)} e^{i \\left(- u y + v x\\right)} e^{i \\left(u y - v x\\right)} + 1} - \\frac{\\left(i v P{\\left(r^{2} \\right)} + 2 \\left(u - x\\right) \\left. \\frac{d}{d \\xi_{1}} P{\\left(\\xi_{1} \\right)} \\right|_{\\substack{ \\xi_{1}=r^{2} }}\\right) e^{i \\left(u y - v x\\right)}}{- P^{2}{\\left(r^{2} \\right)} e^{i \\left(- u y + v x\\right)} e^{i \\left(u y - v x\\right)} + 1}\\right) e^{i \\left(- u y + v x\\right)} - i & - i v \\left(\\frac{i y P{\\left(r^{2} \\right)} e^{i \\left(u y - v x\\right)}}{- P^{2}{\\left(r^{2} \\right)} e^{i \\left(- u y + v x\\right)} e^{i \\left(u y - v x\\right)} + 1} - \\frac{\\left(i v P{\\left(r^{2} \\right)} + 2 \\left(u - x\\right) \\left. \\frac{d}{d \\xi_{1}} P{\\left(\\xi_{1} \\right)} \\right|_{\\substack{ \\xi_{1}=r^{2} }}\\right) e^{i \\left(u y - v x\\right)}}{- P^{2}{\\left(r^{2} \\right)} e^{i \\left(- u y + v x\\right)} e^{i \\left(u y - v x\\right)} + 1}\\right) - \\left(- \\frac{i y}{- P^{2}{\\left(r^{2} \\right)} e^{i \\left(- u y + v x\\right)} e^{i \\left(u y - v x\\right)} + 1} + \\frac{\\left(i v P{\\left(r^{2} \\right)} + 2 \\left(u - x\\right) \\left. \\frac{d}{d \\xi_{1}} P{\\left(\\xi_{1} \\right)} \\right|_{\\substack{ \\xi_{1}=r^{2} }}\\right) P{\\left(r^{2} \\right)} e^{i \\left(- u y + v x\\right)} e^{i \\left(u y - v x\\right)}}{- P^{2}{\\left(r^{2} \\right)} e^{i \\left(- u y + v x\\right)} e^{i \\left(u y - v x\\right)} + 1}\\right) \\left(i y P{\\left(r^{2} \\right)} + 2 \\left(u - x\\right) \\left. \\frac{d}{d \\xi_{1}} P{\\left(\\xi_{1} \\right)} \\right|_{\\substack{ \\xi_{1}=r^{2} }}\\right) e^{i \\left(u y - v x\\right)} + \\left(v y P{\\left(r^{2} \\right)} - 4 \\left(u - x\\right)^{2} \\left. \\frac{d^{2}}{d \\xi_{1}^{2}} P{\\left(\\xi_{1} \\right)} \\right|_{\\substack{ \\xi_{1}=r^{2} }} + \\left(- 2 i v \\left(u - x\\right) - 2 i y \\left(u - x\\right) - 2\\right) \\left. \\frac{d}{d \\xi_{1}} P{\\left(\\xi_{1} \\right)} \\right|_{\\substack{ \\xi_{1}=r^{2} }}\\right) e^{i \\left(u y - v x\\right)} & i u \\left(\\frac{i y P{\\left(r^{2} \\right)} e^{i \\left(u y - v x\\right)}}{- P^{2}{\\left(r^{2} \\right)} e^{i \\left(- u y + v x\\right)} e^{i \\left(u y - v x\\right)} + 1} - \\frac{\\left(i v P{\\left(r^{2} \\right)} + 2 \\left(u - x\\right) \\left. \\frac{d}{d \\xi_{1}} P{\\left(\\xi_{1} \\right)} \\right|_{\\substack{ \\xi_{1}=r^{2} }}\\right) e^{i \\left(u y - v x\\right)}}{- P^{2}{\\left(r^{2} \\right)} e^{i \\left(- u y + v x\\right)} e^{i \\left(u y - v x\\right)} + 1}\\right) - \\left(- i x P{\\left(r^{2} \\right)} + 2 \\left(v - y\\right) \\left. \\frac{d}{d \\xi_{1}} P{\\left(\\xi_{1} \\right)} \\right|_{\\substack{ \\xi_{1}=r^{2} }}\\right) \\left(- \\frac{i y}{- P^{2}{\\left(r^{2} \\right)} e^{i \\left(- u y + v x\\right)} e^{i \\left(u y - v x\\right)} + 1} + \\frac{\\left(i v P{\\left(r^{2} \\right)} + 2 \\left(u - x\\right) \\left. \\frac{d}{d \\xi_{1}} P{\\left(\\xi_{1} \\right)} \\right|_{\\substack{ \\xi_{1}=r^{2} }}\\right) P{\\left(r^{2} \\right)} e^{i \\left(- u y + v x\\right)} e^{i \\left(u y - v x\\right)}}{- P^{2}{\\left(r^{2} \\right)} e^{i \\left(- u y + v x\\right)} e^{i \\left(u y - v x\\right)} + 1}\\right) e^{i \\left(u y - v x\\right)} + \\left(- 4 \\left(u - x\\right) \\left(v - y\\right) \\left. \\frac{d^{2}}{d \\xi_{1}^{2}} P{\\left(\\xi_{1} \\right)} \\right|_{\\substack{ \\xi_{1}=r^{2} }} + \\left(- v x - i\\right) P{\\left(r^{2} \\right)} + \\left(- 2 i v \\left(v - y\\right) + 2 i x \\left(u - x\\right)\\right) \\left. \\frac{d}{d \\xi_{1}} P{\\left(\\xi_{1} \\right)} \\right|_{\\substack{ \\xi_{1}=r^{2} }}\\right) e^{i \\left(u y - v x\\right)}\\\\- x y - i y \\left(\\frac{i x}{- P^{2}{\\left(r^{2} \\right)} e^{i \\left(- u y + v x\\right)} e^{i \\left(u y - v x\\right)} + 1} - \\frac{\\left(i u P{\\left(r^{2} \\right)} - 2 \\left(v - y\\right) \\left. \\frac{d}{d \\xi_{1}} P{\\left(\\xi_{1} \\right)} \\right|_{\\substack{ \\xi_{1}=r^{2} }}\\right) P{\\left(r^{2} \\right)} e^{i \\left(- u y + v x\\right)} e^{i \\left(u y - v x\\right)}}{- P^{2}{\\left(r^{2} \\right)} e^{i \\left(- u y + v x\\right)} e^{i \\left(u y - v x\\right)} + 1}\\right) - \\left(i v P{\\left(r^{2} \\right)} + 2 \\left(- u + x\\right) \\left. \\frac{d}{d \\xi_{1}} P{\\left(\\xi_{1} \\right)} \\right|_{\\substack{ \\xi_{1}=r^{2} }}\\right) \\left(- \\frac{i x P{\\left(r^{2} \\right)} e^{i \\left(u y - v x\\right)}}{- P^{2}{\\left(r^{2} \\right)} e^{i \\left(- u y + v x\\right)} e^{i \\left(u y - v x\\right)} + 1} + \\frac{\\left(i u P{\\left(r^{2} \\right)} - 2 \\left(v - y\\right) \\left. \\frac{d}{d \\xi_{1}} P{\\left(\\xi_{1} \\right)} \\right|_{\\substack{ \\xi_{1}=r^{2} }}\\right) e^{i \\left(u y - v x\\right)}}{- P^{2}{\\left(r^{2} \\right)} e^{i \\left(- u y + v x\\right)} e^{i \\left(u y - v x\\right)} + 1}\\right) e^{i \\left(- u y + v x\\right)} + i & x^{2} + i x \\left(\\frac{i x}{- P^{2}{\\left(r^{2} \\right)} e^{i \\left(- u y + v x\\right)} e^{i \\left(u y - v x\\right)} + 1} - \\frac{\\left(i u P{\\left(r^{2} \\right)} - 2 \\left(v - y\\right) \\left. \\frac{d}{d \\xi_{1}} P{\\left(\\xi_{1} \\right)} \\right|_{\\substack{ \\xi_{1}=r^{2} }}\\right) P{\\left(r^{2} \\right)} e^{i \\left(- u y + v x\\right)} e^{i \\left(u y - v x\\right)}}{- P^{2}{\\left(r^{2} \\right)} e^{i \\left(- u y + v x\\right)} e^{i \\left(u y - v x\\right)} + 1}\\right) - \\left(- i u P{\\left(r^{2} \\right)} + 2 \\left(- v + y\\right) \\left. \\frac{d}{d \\xi_{1}} P{\\left(\\xi_{1} \\right)} \\right|_{\\substack{ \\xi_{1}=r^{2} }}\\right) \\left(- \\frac{i x P{\\left(r^{2} \\right)} e^{i \\left(u y - v x\\right)}}{- P^{2}{\\left(r^{2} \\right)} e^{i \\left(- u y + v x\\right)} e^{i \\left(u y - v x\\right)} + 1} + \\frac{\\left(i u P{\\left(r^{2} \\right)} - 2 \\left(v - y\\right) \\left. \\frac{d}{d \\xi_{1}} P{\\left(\\xi_{1} \\right)} \\right|_{\\substack{ \\xi_{1}=r^{2} }}\\right) e^{i \\left(u y - v x\\right)}}{- P^{2}{\\left(r^{2} \\right)} e^{i \\left(- u y + v x\\right)} e^{i \\left(u y - v x\\right)} + 1}\\right) e^{i \\left(- u y + v x\\right)} - 2 \\left. \\frac{d}{d \\xi_{1}} P{\\left(\\xi_{1} \\right)} \\right|_{\\substack{ \\xi_{1}=0 }} & - i v \\left(- \\frac{i x P{\\left(r^{2} \\right)} e^{i \\left(u y - v x\\right)}}{- P^{2}{\\left(r^{2} \\right)} e^{i \\left(- u y + v x\\right)} e^{i \\left(u y - v x\\right)} + 1} + \\frac{\\left(i u P{\\left(r^{2} \\right)} - 2 \\left(v - y\\right) \\left. \\frac{d}{d \\xi_{1}} P{\\left(\\xi_{1} \\right)} \\right|_{\\substack{ \\xi_{1}=r^{2} }}\\right) e^{i \\left(u y - v x\\right)}}{- P^{2}{\\left(r^{2} \\right)} e^{i \\left(- u y + v x\\right)} e^{i \\left(u y - v x\\right)} + 1}\\right) - \\left(\\frac{i x}{- P^{2}{\\left(r^{2} \\right)} e^{i \\left(- u y + v x\\right)} e^{i \\left(u y - v x\\right)} + 1} - \\frac{\\left(i u P{\\left(r^{2} \\right)} - 2 \\left(v - y\\right) \\left. \\frac{d}{d \\xi_{1}} P{\\left(\\xi_{1} \\right)} \\right|_{\\substack{ \\xi_{1}=r^{2} }}\\right) P{\\left(r^{2} \\right)} e^{i \\left(- u y + v x\\right)} e^{i \\left(u y - v x\\right)}}{- P^{2}{\\left(r^{2} \\right)} e^{i \\left(- u y + v x\\right)} e^{i \\left(u y - v x\\right)} + 1}\\right) \\left(i y P{\\left(r^{2} \\right)} + 2 \\left(u - x\\right) \\left. \\frac{d}{d \\xi_{1}} P{\\left(\\xi_{1} \\right)} \\right|_{\\substack{ \\xi_{1}=r^{2} }}\\right) e^{i \\left(u y - v x\\right)} + \\left(- 4 \\left(u - x\\right) \\left(v - y\\right) \\left. \\frac{d^{2}}{d \\xi_{1}^{2}} P{\\left(\\xi_{1} \\right)} \\right|_{\\substack{ \\xi_{1}=r^{2} }} + \\left(- u y + i\\right) P{\\left(r^{2} \\right)} + \\left(2 i u \\left(u - x\\right) - 2 i y \\left(v - y\\right)\\right) \\left. \\frac{d}{d \\xi_{1}} P{\\left(\\xi_{1} \\right)} \\right|_{\\substack{ \\xi_{1}=r^{2} }}\\right) e^{i \\left(u y - v x\\right)} & i u \\left(- \\frac{i x P{\\left(r^{2} \\right)} e^{i \\left(u y - v x\\right)}}{- P^{2}{\\left(r^{2} \\right)} e^{i \\left(- u y + v x\\right)} e^{i \\left(u y - v x\\right)} + 1} + \\frac{\\left(i u P{\\left(r^{2} \\right)} - 2 \\left(v - y\\right) \\left. \\frac{d}{d \\xi_{1}} P{\\left(\\xi_{1} \\right)} \\right|_{\\substack{ \\xi_{1}=r^{2} }}\\right) e^{i \\left(u y - v x\\right)}}{- P^{2}{\\left(r^{2} \\right)} e^{i \\left(- u y + v x\\right)} e^{i \\left(u y - v x\\right)} + 1}\\right) - \\left(\\frac{i x}{- P^{2}{\\left(r^{2} \\right)} e^{i \\left(- u y + v x\\right)} e^{i \\left(u y - v x\\right)} + 1} - \\frac{\\left(i u P{\\left(r^{2} \\right)} - 2 \\left(v - y\\right) \\left. \\frac{d}{d \\xi_{1}} P{\\left(\\xi_{1} \\right)} \\right|_{\\substack{ \\xi_{1}=r^{2} }}\\right) P{\\left(r^{2} \\right)} e^{i \\left(- u y + v x\\right)} e^{i \\left(u y - v x\\right)}}{- P^{2}{\\left(r^{2} \\right)} e^{i \\left(- u y + v x\\right)} e^{i \\left(u y - v x\\right)} + 1}\\right) \\left(- i x P{\\left(r^{2} \\right)} + 2 \\left(v - y\\right) \\left. \\frac{d}{d \\xi_{1}} P{\\left(\\xi_{1} \\right)} \\right|_{\\substack{ \\xi_{1}=r^{2} }}\\right) e^{i \\left(u y - v x\\right)} + \\left(u x P{\\left(r^{2} \\right)} - 4 \\left(v - y\\right)^{2} \\left. \\frac{d^{2}}{d \\xi_{1}^{2}} P{\\left(\\xi_{1} \\right)} \\right|_{\\substack{ \\xi_{1}=r^{2} }} + \\left(2 i u \\left(v - y\\right) + 2 i x \\left(v - y\\right) - 2\\right) \\left. \\frac{d}{d \\xi_{1}} P{\\left(\\xi_{1} \\right)} \\right|_{\\substack{ \\xi_{1}=r^{2} }}\\right) e^{i \\left(u y - v x\\right)}\\\\- i y \\left(\\frac{i v P{\\left(r^{2} \\right)} e^{i \\left(- u y + v x\\right)}}{- P^{2}{\\left(r^{2} \\right)} e^{i \\left(- u y + v x\\right)} e^{i \\left(u y - v x\\right)} + 1} - \\frac{\\left(i y P{\\left(r^{2} \\right)} + 2 \\left(- u + x\\right) \\left. \\frac{d}{d \\xi_{1}} P{\\left(\\xi_{1} \\right)} \\right|_{\\substack{ \\xi_{1}=r^{2} }}\\right) e^{i \\left(- u y + v x\\right)}}{- P^{2}{\\left(r^{2} \\right)} e^{i \\left(- u y + v x\\right)} e^{i \\left(u y - v x\\right)} + 1}\\right) - \\left(- \\frac{i v}{- P^{2}{\\left(r^{2} \\right)} e^{i \\left(- u y + v x\\right)} e^{i \\left(u y - v x\\right)} + 1} + \\frac{\\left(i y P{\\left(r^{2} \\right)} + 2 \\left(- u + x\\right) \\left. \\frac{d}{d \\xi_{1}} P{\\left(\\xi_{1} \\right)} \\right|_{\\substack{ \\xi_{1}=r^{2} }}\\right) P{\\left(r^{2} \\right)} e^{i \\left(- u y + v x\\right)} e^{i \\left(u y - v x\\right)}}{- P^{2}{\\left(r^{2} \\right)} e^{i \\left(- u y + v x\\right)} e^{i \\left(u y - v x\\right)} + 1}\\right) \\left(i v P{\\left(r^{2} \\right)} + 2 \\left(- u + x\\right) \\left. \\frac{d}{d \\xi_{1}} P{\\left(\\xi_{1} \\right)} \\right|_{\\substack{ \\xi_{1}=r^{2} }}\\right) e^{i \\left(- u y + v x\\right)} + \\left(v y P{\\left(r^{2} \\right)} - 4 \\left(- u + x\\right)^{2} \\left. \\frac{d^{2}}{d \\xi_{1}^{2}} P{\\left(\\xi_{1} \\right)} \\right|_{\\substack{ \\xi_{1}=r^{2} }} + \\left(- 2 i v \\left(- u + x\\right) - 2 i y \\left(- u + x\\right) - 2\\right) \\left. \\frac{d}{d \\xi_{1}} P{\\left(\\xi_{1} \\right)} \\right|_{\\substack{ \\xi_{1}=r^{2} }}\\right) e^{i \\left(- u y + v x\\right)} & i x \\left(\\frac{i v P{\\left(r^{2} \\right)} e^{i \\left(- u y + v x\\right)}}{- P^{2}{\\left(r^{2} \\right)} e^{i \\left(- u y + v x\\right)} e^{i \\left(u y - v x\\right)} + 1} - \\frac{\\left(i y P{\\left(r^{2} \\right)} + 2 \\left(- u + x\\right) \\left. \\frac{d}{d \\xi_{1}} P{\\left(\\xi_{1} \\right)} \\right|_{\\substack{ \\xi_{1}=r^{2} }}\\right) e^{i \\left(- u y + v x\\right)}}{- P^{2}{\\left(r^{2} \\right)} e^{i \\left(- u y + v x\\right)} e^{i \\left(u y - v x\\right)} + 1}\\right) - \\left(- i u P{\\left(r^{2} \\right)} + 2 \\left(- v + y\\right) \\left. \\frac{d}{d \\xi_{1}} P{\\left(\\xi_{1} \\right)} \\right|_{\\substack{ \\xi_{1}=r^{2} }}\\right) \\left(- \\frac{i v}{- P^{2}{\\left(r^{2} \\right)} e^{i \\left(- u y + v x\\right)} e^{i \\left(u y - v x\\right)} + 1} + \\frac{\\left(i y P{\\left(r^{2} \\right)} + 2 \\left(- u + x\\right) \\left. \\frac{d}{d \\xi_{1}} P{\\left(\\xi_{1} \\right)} \\right|_{\\substack{ \\xi_{1}=r^{2} }}\\right) P{\\left(r^{2} \\right)} e^{i \\left(- u y + v x\\right)} e^{i \\left(u y - v x\\right)}}{- P^{2}{\\left(r^{2} \\right)} e^{i \\left(- u y + v x\\right)} e^{i \\left(u y - v x\\right)} + 1}\\right) e^{i \\left(- u y + v x\\right)} + \\left(- 4 \\left(- u + x\\right) \\left(- v + y\\right) \\left. \\frac{d^{2}}{d \\xi_{1}^{2}} P{\\left(\\xi_{1} \\right)} \\right|_{\\substack{ \\xi_{1}=r^{2} }} + \\left(- u y - i\\right) P{\\left(r^{2} \\right)} + \\left(2 i u \\left(- u + x\\right) - 2 i y \\left(- v + y\\right)\\right) \\left. \\frac{d}{d \\xi_{1}} P{\\left(\\xi_{1} \\right)} \\right|_{\\substack{ \\xi_{1}=r^{2} }}\\right) e^{i \\left(- u y + v x\\right)} & v^{2} - i v \\left(- \\frac{i v}{- P^{2}{\\left(r^{2} \\right)} e^{i \\left(- u y + v x\\right)} e^{i \\left(u y - v x\\right)} + 1} + \\frac{\\left(i y P{\\left(r^{2} \\right)} + 2 \\left(- u + x\\right) \\left. \\frac{d}{d \\xi_{1}} P{\\left(\\xi_{1} \\right)} \\right|_{\\substack{ \\xi_{1}=r^{2} }}\\right) P{\\left(r^{2} \\right)} e^{i \\left(- u y + v x\\right)} e^{i \\left(u y - v x\\right)}}{- P^{2}{\\left(r^{2} \\right)} e^{i \\left(- u y + v x\\right)} e^{i \\left(u y - v x\\right)} + 1}\\right) - \\left(i y P{\\left(r^{2} \\right)} + 2 \\left(u - x\\right) \\left. \\frac{d}{d \\xi_{1}} P{\\left(\\xi_{1} \\right)} \\right|_{\\substack{ \\xi_{1}=r^{2} }}\\right) \\left(\\frac{i v P{\\left(r^{2} \\right)} e^{i \\left(- u y + v x\\right)}}{- P^{2}{\\left(r^{2} \\right)} e^{i \\left(- u y + v x\\right)} e^{i \\left(u y - v x\\right)} + 1} - \\frac{\\left(i y P{\\left(r^{2} \\right)} + 2 \\left(- u + x\\right) \\left. \\frac{d}{d \\xi_{1}} P{\\left(\\xi_{1} \\right)} \\right|_{\\substack{ \\xi_{1}=r^{2} }}\\right) e^{i \\left(- u y + v x\\right)}}{- P^{2}{\\left(r^{2} \\right)} e^{i \\left(- u y + v x\\right)} e^{i \\left(u y - v x\\right)} + 1}\\right) e^{i \\left(u y - v x\\right)} - 2 \\left. \\frac{d}{d \\xi_{1}} P{\\left(\\xi_{1} \\right)} \\right|_{\\substack{ \\xi_{1}=0 }} & - u v + i u \\left(- \\frac{i v}{- P^{2}{\\left(r^{2} \\right)} e^{i \\left(- u y + v x\\right)} e^{i \\left(u y - v x\\right)} + 1} + \\frac{\\left(i y P{\\left(r^{2} \\right)} + 2 \\left(- u + x\\right) \\left. \\frac{d}{d \\xi_{1}} P{\\left(\\xi_{1} \\right)} \\right|_{\\substack{ \\xi_{1}=r^{2} }}\\right) P{\\left(r^{2} \\right)} e^{i \\left(- u y + v x\\right)} e^{i \\left(u y - v x\\right)}}{- P^{2}{\\left(r^{2} \\right)} e^{i \\left(- u y + v x\\right)} e^{i \\left(u y - v x\\right)} + 1}\\right) - \\left(- i x P{\\left(r^{2} \\right)} + 2 \\left(v - y\\right) \\left. \\frac{d}{d \\xi_{1}} P{\\left(\\xi_{1} \\right)} \\right|_{\\substack{ \\xi_{1}=r^{2} }}\\right) \\left(\\frac{i v P{\\left(r^{2} \\right)} e^{i \\left(- u y + v x\\right)}}{- P^{2}{\\left(r^{2} \\right)} e^{i \\left(- u y + v x\\right)} e^{i \\left(u y - v x\\right)} + 1} - \\frac{\\left(i y P{\\left(r^{2} \\right)} + 2 \\left(- u + x\\right) \\left. \\frac{d}{d \\xi_{1}} P{\\left(\\xi_{1} \\right)} \\right|_{\\substack{ \\xi_{1}=r^{2} }}\\right) e^{i \\left(- u y + v x\\right)}}{- P^{2}{\\left(r^{2} \\right)} e^{i \\left(- u y + v x\\right)} e^{i \\left(u y - v x\\right)} + 1}\\right) e^{i \\left(u y - v x\\right)} - i\\\\- i y \\left(- \\frac{i u P{\\left(r^{2} \\right)} e^{i \\left(- u y + v x\\right)}}{- P^{2}{\\left(r^{2} \\right)} e^{i \\left(- u y + v x\\right)} e^{i \\left(u y - v x\\right)} + 1} + \\frac{\\left(i x P{\\left(r^{2} \\right)} - 2 \\left(- v + y\\right) \\left. \\frac{d}{d \\xi_{1}} P{\\left(\\xi_{1} \\right)} \\right|_{\\substack{ \\xi_{1}=r^{2} }}\\right) e^{i \\left(- u y + v x\\right)}}{- P^{2}{\\left(r^{2} \\right)} e^{i \\left(- u y + v x\\right)} e^{i \\left(u y - v x\\right)} + 1}\\right) - \\left(\\frac{i u}{- P^{2}{\\left(r^{2} \\right)} e^{i \\left(- u y + v x\\right)} e^{i \\left(u y - v x\\right)} + 1} - \\frac{\\left(i x P{\\left(r^{2} \\right)} - 2 \\left(- v + y\\right) \\left. \\frac{d}{d \\xi_{1}} P{\\left(\\xi_{1} \\right)} \\right|_{\\substack{ \\xi_{1}=r^{2} }}\\right) P{\\left(r^{2} \\right)} e^{i \\left(- u y + v x\\right)} e^{i \\left(u y - v x\\right)}}{- P^{2}{\\left(r^{2} \\right)} e^{i \\left(- u y + v x\\right)} e^{i \\left(u y - v x\\right)} + 1}\\right) \\left(i v P{\\left(r^{2} \\right)} + 2 \\left(- u + x\\right) \\left. \\frac{d}{d \\xi_{1}} P{\\left(\\xi_{1} \\right)} \\right|_{\\substack{ \\xi_{1}=r^{2} }}\\right) e^{i \\left(- u y + v x\\right)} + \\left(- 4 \\left(- u + x\\right) \\left(- v + y\\right) \\left. \\frac{d^{2}}{d \\xi_{1}^{2}} P{\\left(\\xi_{1} \\right)} \\right|_{\\substack{ \\xi_{1}=r^{2} }} + \\left(- v x + i\\right) P{\\left(r^{2} \\right)} + \\left(- 2 i v \\left(- v + y\\right) + 2 i x \\left(- u + x\\right)\\right) \\left. \\frac{d}{d \\xi_{1}} P{\\left(\\xi_{1} \\right)} \\right|_{\\substack{ \\xi_{1}=r^{2} }}\\right) e^{i \\left(- u y + v x\\right)} & i x \\left(- \\frac{i u P{\\left(r^{2} \\right)} e^{i \\left(- u y + v x\\right)}}{- P^{2}{\\left(r^{2} \\right)} e^{i \\left(- u y + v x\\right)} e^{i \\left(u y - v x\\right)} + 1} + \\frac{\\left(i x P{\\left(r^{2} \\right)} - 2 \\left(- v + y\\right) \\left. \\frac{d}{d \\xi_{1}} P{\\left(\\xi_{1} \\right)} \\right|_{\\substack{ \\xi_{1}=r^{2} }}\\right) e^{i \\left(- u y + v x\\right)}}{- P^{2}{\\left(r^{2} \\right)} e^{i \\left(- u y + v x\\right)} e^{i \\left(u y - v x\\right)} + 1}\\right) - \\left(\\frac{i u}{- P^{2}{\\left(r^{2} \\right)} e^{i \\left(- u y + v x\\right)} e^{i \\left(u y - v x\\right)} + 1} - \\frac{\\left(i x P{\\left(r^{2} \\right)} - 2 \\left(- v + y\\right) \\left. \\frac{d}{d \\xi_{1}} P{\\left(\\xi_{1} \\right)} \\right|_{\\substack{ \\xi_{1}=r^{2} }}\\right) P{\\left(r^{2} \\right)} e^{i \\left(- u y + v x\\right)} e^{i \\left(u y - v x\\right)}}{- P^{2}{\\left(r^{2} \\right)} e^{i \\left(- u y + v x\\right)} e^{i \\left(u y - v x\\right)} + 1}\\right) \\left(- i u P{\\left(r^{2} \\right)} + 2 \\left(- v + y\\right) \\left. \\frac{d}{d \\xi_{1}} P{\\left(\\xi_{1} \\right)} \\right|_{\\substack{ \\xi_{1}=r^{2} }}\\right) e^{i \\left(- u y + v x\\right)} + \\left(u x P{\\left(r^{2} \\right)} - 4 \\left(- v + y\\right)^{2} \\left. \\frac{d^{2}}{d \\xi_{1}^{2}} P{\\left(\\xi_{1} \\right)} \\right|_{\\substack{ \\xi_{1}=r^{2} }} + \\left(2 i u \\left(- v + y\\right) + 2 i x \\left(- v + y\\right) - 2\\right) \\left. \\frac{d}{d \\xi_{1}} P{\\left(\\xi_{1} \\right)} \\right|_{\\substack{ \\xi_{1}=r^{2} }}\\right) e^{i \\left(- u y + v x\\right)} & - u v - i v \\left(\\frac{i u}{- P^{2}{\\left(r^{2} \\right)} e^{i \\left(- u y + v x\\right)} e^{i \\left(u y - v x\\right)} + 1} - \\frac{\\left(i x P{\\left(r^{2} \\right)} - 2 \\left(- v + y\\right) \\left. \\frac{d}{d \\xi_{1}} P{\\left(\\xi_{1} \\right)} \\right|_{\\substack{ \\xi_{1}=r^{2} }}\\right) P{\\left(r^{2} \\right)} e^{i \\left(- u y + v x\\right)} e^{i \\left(u y - v x\\right)}}{- P^{2}{\\left(r^{2} \\right)} e^{i \\left(- u y + v x\\right)} e^{i \\left(u y - v x\\right)} + 1}\\right) - \\left(i y P{\\left(r^{2} \\right)} + 2 \\left(u - x\\right) \\left. \\frac{d}{d \\xi_{1}} P{\\left(\\xi_{1} \\right)} \\right|_{\\substack{ \\xi_{1}=r^{2} }}\\right) \\left(- \\frac{i u P{\\left(r^{2} \\right)} e^{i \\left(- u y + v x\\right)}}{- P^{2}{\\left(r^{2} \\right)} e^{i \\left(- u y + v x\\right)} e^{i \\left(u y - v x\\right)} + 1} + \\frac{\\left(i x P{\\left(r^{2} \\right)} - 2 \\left(- v + y\\right) \\left. \\frac{d}{d \\xi_{1}} P{\\left(\\xi_{1} \\right)} \\right|_{\\substack{ \\xi_{1}=r^{2} }}\\right) e^{i \\left(- u y + v x\\right)}}{- P^{2}{\\left(r^{2} \\right)} e^{i \\left(- u y + v x\\right)} e^{i \\left(u y - v x\\right)} + 1}\\right) e^{i \\left(u y - v x\\right)} + i & u^{2} + i u \\left(\\frac{i u}{- P^{2}{\\left(r^{2} \\right)} e^{i \\left(- u y + v x\\right)} e^{i \\left(u y - v x\\right)} + 1} - \\frac{\\left(i x P{\\left(r^{2} \\right)} - 2 \\left(- v + y\\right) \\left. \\frac{d}{d \\xi_{1}} P{\\left(\\xi_{1} \\right)} \\right|_{\\substack{ \\xi_{1}=r^{2} }}\\right) P{\\left(r^{2} \\right)} e^{i \\left(- u y + v x\\right)} e^{i \\left(u y - v x\\right)}}{- P^{2}{\\left(r^{2} \\right)} e^{i \\left(- u y + v x\\right)} e^{i \\left(u y - v x\\right)} + 1}\\right) - \\left(- i x P{\\left(r^{2} \\right)} + 2 \\left(v - y\\right) \\left. \\frac{d}{d \\xi_{1}} P{\\left(\\xi_{1} \\right)} \\right|_{\\substack{ \\xi_{1}=r^{2} }}\\right) \\left(- \\frac{i u P{\\left(r^{2} \\right)} e^{i \\left(- u y + v x\\right)}}{- P^{2}{\\left(r^{2} \\right)} e^{i \\left(- u y + v x\\right)} e^{i \\left(u y - v x\\right)} + 1} + \\frac{\\left(i x P{\\left(r^{2} \\right)} - 2 \\left(- v + y\\right) \\left. \\frac{d}{d \\xi_{1}} P{\\left(\\xi_{1} \\right)} \\right|_{\\substack{ \\xi_{1}=r^{2} }}\\right) e^{i \\left(- u y + v x\\right)}}{- P^{2}{\\left(r^{2} \\right)} e^{i \\left(- u y + v x\\right)} e^{i \\left(u y - v x\\right)} + 1}\\right) e^{i \\left(u y - v x\\right)} - 2 \\left. \\frac{d}{d \\xi_{1}} P{\\left(\\xi_{1} \\right)} \\right|_{\\substack{ \\xi_{1}=0 }}\\end{matrix}\\right]$"
      ],
      "text/plain": [
       "Matrix([\n",
       "[                                                                                                                                                        y**2 - I*y*(-I*y/(-P(r**2)**2*exp(I*(-u*y + v*x))*exp(I*(u*y - v*x)) + 1) + (I*v*P(r**2) + 2*(u - x)*Subs(Derivative(P(_xi_1), _xi_1), _xi_1, r**2))*P(r**2)*exp(I*(-u*y + v*x))*exp(I*(u*y - v*x))/(-P(r**2)**2*exp(I*(-u*y + v*x))*exp(I*(u*y - v*x)) + 1)) - (I*v*P(r**2) + 2*(-u + x)*Subs(Derivative(P(_xi_1), _xi_1), _xi_1, r**2))*(I*y*P(r**2)*exp(I*(u*y - v*x))/(-P(r**2)**2*exp(I*(-u*y + v*x))*exp(I*(u*y - v*x)) + 1) - (I*v*P(r**2) + 2*(u - x)*Subs(Derivative(P(_xi_1), _xi_1), _xi_1, r**2))*exp(I*(u*y - v*x))/(-P(r**2)**2*exp(I*(-u*y + v*x))*exp(I*(u*y - v*x)) + 1))*exp(I*(-u*y + v*x)) - 2*Subs(Derivative(P(_xi_1), _xi_1), _xi_1, 0),                                                                                                                                                                                                   -x*y + I*x*(-I*y/(-P(r**2)**2*exp(I*(-u*y + v*x))*exp(I*(u*y - v*x)) + 1) + (I*v*P(r**2) + 2*(u - x)*Subs(Derivative(P(_xi_1), _xi_1), _xi_1, r**2))*P(r**2)*exp(I*(-u*y + v*x))*exp(I*(u*y - v*x))/(-P(r**2)**2*exp(I*(-u*y + v*x))*exp(I*(u*y - v*x)) + 1)) - (-I*u*P(r**2) + 2*(-v + y)*Subs(Derivative(P(_xi_1), _xi_1), _xi_1, r**2))*(I*y*P(r**2)*exp(I*(u*y - v*x))/(-P(r**2)**2*exp(I*(-u*y + v*x))*exp(I*(u*y - v*x)) + 1) - (I*v*P(r**2) + 2*(u - x)*Subs(Derivative(P(_xi_1), _xi_1), _xi_1, r**2))*exp(I*(u*y - v*x))/(-P(r**2)**2*exp(I*(-u*y + v*x))*exp(I*(u*y - v*x)) + 1))*exp(I*(-u*y + v*x)) - I,         -I*v*(I*y*P(r**2)*exp(I*(u*y - v*x))/(-P(r**2)**2*exp(I*(-u*y + v*x))*exp(I*(u*y - v*x)) + 1) - (I*v*P(r**2) + 2*(u - x)*Subs(Derivative(P(_xi_1), _xi_1), _xi_1, r**2))*exp(I*(u*y - v*x))/(-P(r**2)**2*exp(I*(-u*y + v*x))*exp(I*(u*y - v*x)) + 1)) - (-I*y/(-P(r**2)**2*exp(I*(-u*y + v*x))*exp(I*(u*y - v*x)) + 1) + (I*v*P(r**2) + 2*(u - x)*Subs(Derivative(P(_xi_1), _xi_1), _xi_1, r**2))*P(r**2)*exp(I*(-u*y + v*x))*exp(I*(u*y - v*x))/(-P(r**2)**2*exp(I*(-u*y + v*x))*exp(I*(u*y - v*x)) + 1))*(I*y*P(r**2) + 2*(u - x)*Subs(Derivative(P(_xi_1), _xi_1), _xi_1, r**2))*exp(I*(u*y - v*x)) + (v*y*P(r**2) - 4*(u - x)**2*Subs(Derivative(P(_xi_1), (_xi_1, 2)), _xi_1, r**2) + (-2*I*v*(u - x) - 2*I*y*(u - x) - 2)*Subs(Derivative(P(_xi_1), _xi_1), _xi_1, r**2))*exp(I*(u*y - v*x)), I*u*(I*y*P(r**2)*exp(I*(u*y - v*x))/(-P(r**2)**2*exp(I*(-u*y + v*x))*exp(I*(u*y - v*x)) + 1) - (I*v*P(r**2) + 2*(u - x)*Subs(Derivative(P(_xi_1), _xi_1), _xi_1, r**2))*exp(I*(u*y - v*x))/(-P(r**2)**2*exp(I*(-u*y + v*x))*exp(I*(u*y - v*x)) + 1)) - (-I*x*P(r**2) + 2*(v - y)*Subs(Derivative(P(_xi_1), _xi_1), _xi_1, r**2))*(-I*y/(-P(r**2)**2*exp(I*(-u*y + v*x))*exp(I*(u*y - v*x)) + 1) + (I*v*P(r**2) + 2*(u - x)*Subs(Derivative(P(_xi_1), _xi_1), _xi_1, r**2))*P(r**2)*exp(I*(-u*y + v*x))*exp(I*(u*y - v*x))/(-P(r**2)**2*exp(I*(-u*y + v*x))*exp(I*(u*y - v*x)) + 1))*exp(I*(u*y - v*x)) + (-4*(u - x)*(v - y)*Subs(Derivative(P(_xi_1), (_xi_1, 2)), _xi_1, r**2) + (-v*x - I)*P(r**2) + (-2*I*v*(v - y) + 2*I*x*(u - x))*Subs(Derivative(P(_xi_1), _xi_1), _xi_1, r**2))*exp(I*(u*y - v*x))],\n",
       "[                                                                                                                                                                                                    -x*y - I*y*(I*x/(-P(r**2)**2*exp(I*(-u*y + v*x))*exp(I*(u*y - v*x)) + 1) - (I*u*P(r**2) - 2*(v - y)*Subs(Derivative(P(_xi_1), _xi_1), _xi_1, r**2))*P(r**2)*exp(I*(-u*y + v*x))*exp(I*(u*y - v*x))/(-P(r**2)**2*exp(I*(-u*y + v*x))*exp(I*(u*y - v*x)) + 1)) - (I*v*P(r**2) + 2*(-u + x)*Subs(Derivative(P(_xi_1), _xi_1), _xi_1, r**2))*(-I*x*P(r**2)*exp(I*(u*y - v*x))/(-P(r**2)**2*exp(I*(-u*y + v*x))*exp(I*(u*y - v*x)) + 1) + (I*u*P(r**2) - 2*(v - y)*Subs(Derivative(P(_xi_1), _xi_1), _xi_1, r**2))*exp(I*(u*y - v*x))/(-P(r**2)**2*exp(I*(-u*y + v*x))*exp(I*(u*y - v*x)) + 1))*exp(I*(-u*y + v*x)) + I,                                                                                                                                                       x**2 + I*x*(I*x/(-P(r**2)**2*exp(I*(-u*y + v*x))*exp(I*(u*y - v*x)) + 1) - (I*u*P(r**2) - 2*(v - y)*Subs(Derivative(P(_xi_1), _xi_1), _xi_1, r**2))*P(r**2)*exp(I*(-u*y + v*x))*exp(I*(u*y - v*x))/(-P(r**2)**2*exp(I*(-u*y + v*x))*exp(I*(u*y - v*x)) + 1)) - (-I*u*P(r**2) + 2*(-v + y)*Subs(Derivative(P(_xi_1), _xi_1), _xi_1, r**2))*(-I*x*P(r**2)*exp(I*(u*y - v*x))/(-P(r**2)**2*exp(I*(-u*y + v*x))*exp(I*(u*y - v*x)) + 1) + (I*u*P(r**2) - 2*(v - y)*Subs(Derivative(P(_xi_1), _xi_1), _xi_1, r**2))*exp(I*(u*y - v*x))/(-P(r**2)**2*exp(I*(-u*y + v*x))*exp(I*(u*y - v*x)) + 1))*exp(I*(-u*y + v*x)) - 2*Subs(Derivative(P(_xi_1), _xi_1), _xi_1, 0), -I*v*(-I*x*P(r**2)*exp(I*(u*y - v*x))/(-P(r**2)**2*exp(I*(-u*y + v*x))*exp(I*(u*y - v*x)) + 1) + (I*u*P(r**2) - 2*(v - y)*Subs(Derivative(P(_xi_1), _xi_1), _xi_1, r**2))*exp(I*(u*y - v*x))/(-P(r**2)**2*exp(I*(-u*y + v*x))*exp(I*(u*y - v*x)) + 1)) - (I*x/(-P(r**2)**2*exp(I*(-u*y + v*x))*exp(I*(u*y - v*x)) + 1) - (I*u*P(r**2) - 2*(v - y)*Subs(Derivative(P(_xi_1), _xi_1), _xi_1, r**2))*P(r**2)*exp(I*(-u*y + v*x))*exp(I*(u*y - v*x))/(-P(r**2)**2*exp(I*(-u*y + v*x))*exp(I*(u*y - v*x)) + 1))*(I*y*P(r**2) + 2*(u - x)*Subs(Derivative(P(_xi_1), _xi_1), _xi_1, r**2))*exp(I*(u*y - v*x)) + (-4*(u - x)*(v - y)*Subs(Derivative(P(_xi_1), (_xi_1, 2)), _xi_1, r**2) + (-u*y + I)*P(r**2) + (2*I*u*(u - x) - 2*I*y*(v - y))*Subs(Derivative(P(_xi_1), _xi_1), _xi_1, r**2))*exp(I*(u*y - v*x)),           I*u*(-I*x*P(r**2)*exp(I*(u*y - v*x))/(-P(r**2)**2*exp(I*(-u*y + v*x))*exp(I*(u*y - v*x)) + 1) + (I*u*P(r**2) - 2*(v - y)*Subs(Derivative(P(_xi_1), _xi_1), _xi_1, r**2))*exp(I*(u*y - v*x))/(-P(r**2)**2*exp(I*(-u*y + v*x))*exp(I*(u*y - v*x)) + 1)) - (I*x/(-P(r**2)**2*exp(I*(-u*y + v*x))*exp(I*(u*y - v*x)) + 1) - (I*u*P(r**2) - 2*(v - y)*Subs(Derivative(P(_xi_1), _xi_1), _xi_1, r**2))*P(r**2)*exp(I*(-u*y + v*x))*exp(I*(u*y - v*x))/(-P(r**2)**2*exp(I*(-u*y + v*x))*exp(I*(u*y - v*x)) + 1))*(-I*x*P(r**2) + 2*(v - y)*Subs(Derivative(P(_xi_1), _xi_1), _xi_1, r**2))*exp(I*(u*y - v*x)) + (u*x*P(r**2) - 4*(v - y)**2*Subs(Derivative(P(_xi_1), (_xi_1, 2)), _xi_1, r**2) + (2*I*u*(v - y) + 2*I*x*(v - y) - 2)*Subs(Derivative(P(_xi_1), _xi_1), _xi_1, r**2))*exp(I*(u*y - v*x))],\n",
       "[          -I*y*(I*v*P(r**2)*exp(I*(-u*y + v*x))/(-P(r**2)**2*exp(I*(-u*y + v*x))*exp(I*(u*y - v*x)) + 1) - (I*y*P(r**2) + 2*(-u + x)*Subs(Derivative(P(_xi_1), _xi_1), _xi_1, r**2))*exp(I*(-u*y + v*x))/(-P(r**2)**2*exp(I*(-u*y + v*x))*exp(I*(u*y - v*x)) + 1)) - (-I*v/(-P(r**2)**2*exp(I*(-u*y + v*x))*exp(I*(u*y - v*x)) + 1) + (I*y*P(r**2) + 2*(-u + x)*Subs(Derivative(P(_xi_1), _xi_1), _xi_1, r**2))*P(r**2)*exp(I*(-u*y + v*x))*exp(I*(u*y - v*x))/(-P(r**2)**2*exp(I*(-u*y + v*x))*exp(I*(u*y - v*x)) + 1))*(I*v*P(r**2) + 2*(-u + x)*Subs(Derivative(P(_xi_1), _xi_1), _xi_1, r**2))*exp(I*(-u*y + v*x)) + (v*y*P(r**2) - 4*(-u + x)**2*Subs(Derivative(P(_xi_1), (_xi_1, 2)), _xi_1, r**2) + (-2*I*v*(-u + x) - 2*I*y*(-u + x) - 2)*Subs(Derivative(P(_xi_1), _xi_1), _xi_1, r**2))*exp(I*(-u*y + v*x)), I*x*(I*v*P(r**2)*exp(I*(-u*y + v*x))/(-P(r**2)**2*exp(I*(-u*y + v*x))*exp(I*(u*y - v*x)) + 1) - (I*y*P(r**2) + 2*(-u + x)*Subs(Derivative(P(_xi_1), _xi_1), _xi_1, r**2))*exp(I*(-u*y + v*x))/(-P(r**2)**2*exp(I*(-u*y + v*x))*exp(I*(u*y - v*x)) + 1)) - (-I*u*P(r**2) + 2*(-v + y)*Subs(Derivative(P(_xi_1), _xi_1), _xi_1, r**2))*(-I*v/(-P(r**2)**2*exp(I*(-u*y + v*x))*exp(I*(u*y - v*x)) + 1) + (I*y*P(r**2) + 2*(-u + x)*Subs(Derivative(P(_xi_1), _xi_1), _xi_1, r**2))*P(r**2)*exp(I*(-u*y + v*x))*exp(I*(u*y - v*x))/(-P(r**2)**2*exp(I*(-u*y + v*x))*exp(I*(u*y - v*x)) + 1))*exp(I*(-u*y + v*x)) + (-4*(-u + x)*(-v + y)*Subs(Derivative(P(_xi_1), (_xi_1, 2)), _xi_1, r**2) + (-u*y - I)*P(r**2) + (2*I*u*(-u + x) - 2*I*y*(-v + y))*Subs(Derivative(P(_xi_1), _xi_1), _xi_1, r**2))*exp(I*(-u*y + v*x)),                                                                                                                                           v**2 - I*v*(-I*v/(-P(r**2)**2*exp(I*(-u*y + v*x))*exp(I*(u*y - v*x)) + 1) + (I*y*P(r**2) + 2*(-u + x)*Subs(Derivative(P(_xi_1), _xi_1), _xi_1, r**2))*P(r**2)*exp(I*(-u*y + v*x))*exp(I*(u*y - v*x))/(-P(r**2)**2*exp(I*(-u*y + v*x))*exp(I*(u*y - v*x)) + 1)) - (I*y*P(r**2) + 2*(u - x)*Subs(Derivative(P(_xi_1), _xi_1), _xi_1, r**2))*(I*v*P(r**2)*exp(I*(-u*y + v*x))/(-P(r**2)**2*exp(I*(-u*y + v*x))*exp(I*(u*y - v*x)) + 1) - (I*y*P(r**2) + 2*(-u + x)*Subs(Derivative(P(_xi_1), _xi_1), _xi_1, r**2))*exp(I*(-u*y + v*x))/(-P(r**2)**2*exp(I*(-u*y + v*x))*exp(I*(u*y - v*x)) + 1))*exp(I*(u*y - v*x)) - 2*Subs(Derivative(P(_xi_1), _xi_1), _xi_1, 0),                                                                                                                                                                                       -u*v + I*u*(-I*v/(-P(r**2)**2*exp(I*(-u*y + v*x))*exp(I*(u*y - v*x)) + 1) + (I*y*P(r**2) + 2*(-u + x)*Subs(Derivative(P(_xi_1), _xi_1), _xi_1, r**2))*P(r**2)*exp(I*(-u*y + v*x))*exp(I*(u*y - v*x))/(-P(r**2)**2*exp(I*(-u*y + v*x))*exp(I*(u*y - v*x)) + 1)) - (-I*x*P(r**2) + 2*(v - y)*Subs(Derivative(P(_xi_1), _xi_1), _xi_1, r**2))*(I*v*P(r**2)*exp(I*(-u*y + v*x))/(-P(r**2)**2*exp(I*(-u*y + v*x))*exp(I*(u*y - v*x)) + 1) - (I*y*P(r**2) + 2*(-u + x)*Subs(Derivative(P(_xi_1), _xi_1), _xi_1, r**2))*exp(I*(-u*y + v*x))/(-P(r**2)**2*exp(I*(-u*y + v*x))*exp(I*(u*y - v*x)) + 1))*exp(I*(u*y - v*x)) - I],\n",
       "[-I*y*(-I*u*P(r**2)*exp(I*(-u*y + v*x))/(-P(r**2)**2*exp(I*(-u*y + v*x))*exp(I*(u*y - v*x)) + 1) + (I*x*P(r**2) - 2*(-v + y)*Subs(Derivative(P(_xi_1), _xi_1), _xi_1, r**2))*exp(I*(-u*y + v*x))/(-P(r**2)**2*exp(I*(-u*y + v*x))*exp(I*(u*y - v*x)) + 1)) - (I*u/(-P(r**2)**2*exp(I*(-u*y + v*x))*exp(I*(u*y - v*x)) + 1) - (I*x*P(r**2) - 2*(-v + y)*Subs(Derivative(P(_xi_1), _xi_1), _xi_1, r**2))*P(r**2)*exp(I*(-u*y + v*x))*exp(I*(u*y - v*x))/(-P(r**2)**2*exp(I*(-u*y + v*x))*exp(I*(u*y - v*x)) + 1))*(I*v*P(r**2) + 2*(-u + x)*Subs(Derivative(P(_xi_1), _xi_1), _xi_1, r**2))*exp(I*(-u*y + v*x)) + (-4*(-u + x)*(-v + y)*Subs(Derivative(P(_xi_1), (_xi_1, 2)), _xi_1, r**2) + (-v*x + I)*P(r**2) + (-2*I*v*(-v + y) + 2*I*x*(-u + x))*Subs(Derivative(P(_xi_1), _xi_1), _xi_1, r**2))*exp(I*(-u*y + v*x)),           I*x*(-I*u*P(r**2)*exp(I*(-u*y + v*x))/(-P(r**2)**2*exp(I*(-u*y + v*x))*exp(I*(u*y - v*x)) + 1) + (I*x*P(r**2) - 2*(-v + y)*Subs(Derivative(P(_xi_1), _xi_1), _xi_1, r**2))*exp(I*(-u*y + v*x))/(-P(r**2)**2*exp(I*(-u*y + v*x))*exp(I*(u*y - v*x)) + 1)) - (I*u/(-P(r**2)**2*exp(I*(-u*y + v*x))*exp(I*(u*y - v*x)) + 1) - (I*x*P(r**2) - 2*(-v + y)*Subs(Derivative(P(_xi_1), _xi_1), _xi_1, r**2))*P(r**2)*exp(I*(-u*y + v*x))*exp(I*(u*y - v*x))/(-P(r**2)**2*exp(I*(-u*y + v*x))*exp(I*(u*y - v*x)) + 1))*(-I*u*P(r**2) + 2*(-v + y)*Subs(Derivative(P(_xi_1), _xi_1), _xi_1, r**2))*exp(I*(-u*y + v*x)) + (u*x*P(r**2) - 4*(-v + y)**2*Subs(Derivative(P(_xi_1), (_xi_1, 2)), _xi_1, r**2) + (2*I*u*(-v + y) + 2*I*x*(-v + y) - 2)*Subs(Derivative(P(_xi_1), _xi_1), _xi_1, r**2))*exp(I*(-u*y + v*x)),                                                                                                                                                                                       -u*v - I*v*(I*u/(-P(r**2)**2*exp(I*(-u*y + v*x))*exp(I*(u*y - v*x)) + 1) - (I*x*P(r**2) - 2*(-v + y)*Subs(Derivative(P(_xi_1), _xi_1), _xi_1, r**2))*P(r**2)*exp(I*(-u*y + v*x))*exp(I*(u*y - v*x))/(-P(r**2)**2*exp(I*(-u*y + v*x))*exp(I*(u*y - v*x)) + 1)) - (I*y*P(r**2) + 2*(u - x)*Subs(Derivative(P(_xi_1), _xi_1), _xi_1, r**2))*(-I*u*P(r**2)*exp(I*(-u*y + v*x))/(-P(r**2)**2*exp(I*(-u*y + v*x))*exp(I*(u*y - v*x)) + 1) + (I*x*P(r**2) - 2*(-v + y)*Subs(Derivative(P(_xi_1), _xi_1), _xi_1, r**2))*exp(I*(-u*y + v*x))/(-P(r**2)**2*exp(I*(-u*y + v*x))*exp(I*(u*y - v*x)) + 1))*exp(I*(u*y - v*x)) + I,                                                                                                                                           u**2 + I*u*(I*u/(-P(r**2)**2*exp(I*(-u*y + v*x))*exp(I*(u*y - v*x)) + 1) - (I*x*P(r**2) - 2*(-v + y)*Subs(Derivative(P(_xi_1), _xi_1), _xi_1, r**2))*P(r**2)*exp(I*(-u*y + v*x))*exp(I*(u*y - v*x))/(-P(r**2)**2*exp(I*(-u*y + v*x))*exp(I*(u*y - v*x)) + 1)) - (-I*x*P(r**2) + 2*(v - y)*Subs(Derivative(P(_xi_1), _xi_1), _xi_1, r**2))*(-I*u*P(r**2)*exp(I*(-u*y + v*x))/(-P(r**2)**2*exp(I*(-u*y + v*x))*exp(I*(u*y - v*x)) + 1) + (I*x*P(r**2) - 2*(-v + y)*Subs(Derivative(P(_xi_1), _xi_1), _xi_1, r**2))*exp(I*(-u*y + v*x))/(-P(r**2)**2*exp(I*(-u*y + v*x))*exp(I*(u*y - v*x)) + 1))*exp(I*(u*y - v*x)) - 2*Subs(Derivative(P(_xi_1), _xi_1), _xi_1, 0)]])"
      ]
     },
     "execution_count": 16,
     "metadata": {},
     "output_type": "execute_result"
    }
   ],
   "source": [
    "Omega = A - B*C.inv()*Bconj\n",
    "Omega"
   ]
  },
  {
   "cell_type": "markdown",
   "metadata": {
    "id": "FBy10JJRs2Jj"
   },
   "source": [
    "Simplify single elements of $\\Omega$. Note that Python starts indexing rows and columns from 0.\n",
    "\n",
    "We start with the imaginary part of $\\Omega_{1,2}$."
   ]
  },
  {
   "cell_type": "code",
   "execution_count": 17,
   "metadata": {
    "colab": {
     "base_uri": "https://localhost:8080/",
     "height": 55
    },
    "id": "aCMGjIKDUfBf",
    "outputId": "6196a10f-77bf-466a-9d98-b18ba0401060"
   },
   "outputs": [
    {
     "data": {
      "text/latex": [
       "$\\displaystyle \\frac{2 r^{2} P{\\left(r^{2} \\right)} \\left. \\frac{d}{d \\xi_{1}} P{\\left(\\xi_{1} \\right)} \\right|_{\\substack{ \\xi_{1}=r^{2} }}}{P^{2}{\\left(r^{2} \\right)} - 1} - 1$"
      ],
      "text/plain": [
       "2*r**2*P(r**2)*Subs(Derivative(P(_xi_1), _xi_1), _xi_1, r**2)/(P(r**2)**2 - 1) - 1"
      ]
     },
     "execution_count": 17,
     "metadata": {},
     "output_type": "execute_result"
    }
   ],
   "source": [
    "O01im = (-I*Omega[0,1]).simplify().expand().subs([(I,0)])\n",
    "O01im = (O01im+1).simplify()-1\n",
    "O01im = O01im.subs([(((u-x)**2+(v-y)**2).expand(),r**2)])\n",
    "O01im"
   ]
  },
  {
   "cell_type": "markdown",
   "metadata": {
    "id": "0CHFPvI-VXuT"
   },
   "source": [
    "Next, the imaginary part of $\\Omega_{3,4}$ follows"
   ]
  },
  {
   "cell_type": "code",
   "execution_count": 18,
   "metadata": {
    "colab": {
     "base_uri": "https://localhost:8080/",
     "height": 55
    },
    "id": "Ap10cQPaVgJ4",
    "outputId": "c246adfb-809f-480f-9403-8171519564c2"
   },
   "outputs": [
    {
     "data": {
      "text/latex": [
       "$\\displaystyle \\frac{2 r^{2} P{\\left(r^{2} \\right)} \\left. \\frac{d}{d \\xi_{1}} P{\\left(\\xi_{1} \\right)} \\right|_{\\substack{ \\xi_{1}=r^{2} }}}{P^{2}{\\left(r^{2} \\right)} - 1} - 1$"
      ],
      "text/plain": [
       "2*r**2*P(r**2)*Subs(Derivative(P(_xi_1), _xi_1), _xi_1, r**2)/(P(r**2)**2 - 1) - 1"
      ]
     },
     "execution_count": 18,
     "metadata": {},
     "output_type": "execute_result"
    }
   ],
   "source": [
    "O23im = (-I*Omega[2,3]).simplify().expand().subs([(I,0)])\n",
    "O23im = (O23im+1).simplify()-1\n",
    "O23im = O23im.subs([(((u-x)**2+(v-y)**2).expand(),r**2)])\n",
    "O23im"
   ]
  },
  {
   "cell_type": "markdown",
   "metadata": {
    "id": "Ytnv5JKSWIfA"
   },
   "source": [
    "To derive $\\Omega_{1,4}$ and $\\Omega_{3,2}$, we first simplify without the exponential factor."
   ]
  },
  {
   "cell_type": "code",
   "execution_count": 19,
   "metadata": {
    "colab": {
     "base_uri": "https://localhost:8080/",
     "height": 58
    },
    "id": "I_6d19d1WswJ",
    "outputId": "af807d10-9df2-44a6-a90a-20d59c5df10e"
   },
   "outputs": [
    {
     "data": {
      "text/latex": [
       "$\\displaystyle - \\frac{\\left(- u + x\\right) \\left(- v + y\\right) \\left(4 P^{2}{\\left(r^{2} \\right)} \\left. \\frac{d^{2}}{d \\xi_{1}^{2}} P{\\left(\\xi_{1} \\right)} \\right|_{\\substack{ \\xi_{1}=r^{2} }} - 4 P{\\left(r^{2} \\right)} \\left. \\frac{d}{d \\xi_{1}} P{\\left(\\xi_{1} \\right)} \\right|_{\\substack{ \\xi_{1}=r^{2} }}^{2} + P{\\left(r^{2} \\right)} - 4 \\left. \\frac{d^{2}}{d \\xi_{1}^{2}} P{\\left(\\xi_{1} \\right)} \\right|_{\\substack{ \\xi_{1}=r^{2} }}\\right) e^{i \\left(u y - v x\\right)}}{\\left(P{\\left(r^{2} \\right)} - 1\\right) \\left(P{\\left(r^{2} \\right)} + 1\\right)}$"
      ],
      "text/plain": [
       "-(-u + x)*(-v + y)*(4*P(r**2)**2*Subs(Derivative(P(_xi_1), (_xi_1, 2)), _xi_1, r**2) - 4*P(r**2)*Subs(Derivative(P(_xi_1), _xi_1), _xi_1, r**2)**2 + P(r**2) - 4*Subs(Derivative(P(_xi_1), (_xi_1, 2)), _xi_1, r**2))*exp(I*(u*y - v*x))/((P(r**2) - 1)*(P(r**2) + 1))"
      ]
     },
     "execution_count": 19,
     "metadata": {},
     "output_type": "execute_result"
    }
   ],
   "source": [
    "O03re = (Omega[0,3]*exp(-I*(u*y-x*v))).simplify().expand().subs([(I,0)]).simplify().factor()\n",
    "O03re = O03re*exp(I*(u*y-x*v))\n",
    "O03re"
   ]
  },
  {
   "cell_type": "code",
   "execution_count": 20,
   "metadata": {
    "colab": {
     "base_uri": "https://localhost:8080/",
     "height": 58
    },
    "id": "hsKQja2TYQJo",
    "outputId": "11e0ae9e-69c9-4a39-e653-6517e4a52299"
   },
   "outputs": [
    {
     "data": {
      "text/latex": [
       "$\\displaystyle \\frac{\\left(2 r^{2} \\left. \\frac{d}{d \\xi_{1}} P{\\left(\\xi_{1} \\right)} \\right|_{\\substack{ \\xi_{1}=r^{2} }} - P^{3}{\\left(r^{2} \\right)} + P{\\left(r^{2} \\right)}\\right) e^{i \\left(u y - v x\\right)}}{\\left(P{\\left(r^{2} \\right)} - 1\\right) \\left(P{\\left(r^{2} \\right)} + 1\\right)}$"
      ],
      "text/plain": [
       "(2*r**2*Subs(Derivative(P(_xi_1), _xi_1), _xi_1, r**2) - P(r**2)**3 + P(r**2))*exp(I*(u*y - v*x))/((P(r**2) - 1)*(P(r**2) + 1))"
      ]
     },
     "execution_count": 20,
     "metadata": {},
     "output_type": "execute_result"
    }
   ],
   "source": [
    "O03im = (-I*Omega[0,3]*exp(-I*(u*y-x*v))).simplify().expand().subs([(I,0)]).factor()\n",
    "O03im = O03im.collect(Ppe)\n",
    "O03im = O03im.subs([(2*((u-x)**2+(v-y)**2).expand(),2*r**2)])\n",
    "O03im = O03im*exp(I*(u*y-x*v))\n",
    "O03im"
   ]
  },
  {
   "cell_type": "markdown",
   "metadata": {
    "id": "m-leo_WRjaEE"
   },
   "source": [
    "Thus, $\\Omega_{1,4}$ is"
   ]
  },
  {
   "cell_type": "code",
   "execution_count": 21,
   "metadata": {
    "colab": {
     "base_uri": "https://localhost:8080/",
     "height": 78
    },
    "id": "7ylpUqB2jd2O",
    "outputId": "733f0d81-7412-4a91-f1c4-3c3cadbeb876"
   },
   "outputs": [
    {
     "data": {
      "text/latex": [
       "$\\displaystyle \\frac{\\left(- \\left(u - x\\right) \\left(v - y\\right) \\left(4 P^{2}{\\left(r^{2} \\right)} \\left. \\frac{d^{2}}{d \\xi_{1}^{2}} P{\\left(\\xi_{1} \\right)} \\right|_{\\substack{ \\xi_{1}=r^{2} }} - 4 P{\\left(r^{2} \\right)} \\left. \\frac{d}{d \\xi_{1}} P{\\left(\\xi_{1} \\right)} \\right|_{\\substack{ \\xi_{1}=r^{2} }}^{2} + P{\\left(r^{2} \\right)} - 4 \\left. \\frac{d^{2}}{d \\xi_{1}^{2}} P{\\left(\\xi_{1} \\right)} \\right|_{\\substack{ \\xi_{1}=r^{2} }}\\right) + i \\left(2 r^{2} \\left. \\frac{d}{d \\xi_{1}} P{\\left(\\xi_{1} \\right)} \\right|_{\\substack{ \\xi_{1}=r^{2} }} - P^{3}{\\left(r^{2} \\right)} + P{\\left(r^{2} \\right)}\\right)\\right) e^{i \\left(u y - v x\\right)}}{\\left(P{\\left(r^{2} \\right)} - 1\\right) \\left(P{\\left(r^{2} \\right)} + 1\\right)}$"
      ],
      "text/plain": [
       "(-(u - x)*(v - y)*(4*P(r**2)**2*Subs(Derivative(P(_xi_1), (_xi_1, 2)), _xi_1, r**2) - 4*P(r**2)*Subs(Derivative(P(_xi_1), _xi_1), _xi_1, r**2)**2 + P(r**2) - 4*Subs(Derivative(P(_xi_1), (_xi_1, 2)), _xi_1, r**2)) + I*(2*r**2*Subs(Derivative(P(_xi_1), _xi_1), _xi_1, r**2) - P(r**2)**3 + P(r**2)))*exp(I*(u*y - v*x))/((P(r**2) - 1)*(P(r**2) + 1))"
      ]
     },
     "execution_count": 21,
     "metadata": {},
     "output_type": "execute_result"
    }
   ],
   "source": [
    "O03 = (O03re + I * O03im).simplify()\n",
    "O03"
   ]
  },
  {
   "cell_type": "code",
   "execution_count": 22,
   "metadata": {
    "colab": {
     "base_uri": "https://localhost:8080/",
     "height": 58
    },
    "id": "v8-12cm8hI7D",
    "outputId": "b7dc3310-30b1-4b2b-db7d-9b52aedd15ba"
   },
   "outputs": [
    {
     "data": {
      "text/latex": [
       "$\\displaystyle - \\frac{\\left(- u + x\\right) \\left(- v + y\\right) \\left(4 P^{2}{\\left(r^{2} \\right)} \\left. \\frac{d^{2}}{d \\xi_{1}^{2}} P{\\left(\\xi_{1} \\right)} \\right|_{\\substack{ \\xi_{1}=r^{2} }} - 4 P{\\left(r^{2} \\right)} \\left. \\frac{d}{d \\xi_{1}} P{\\left(\\xi_{1} \\right)} \\right|_{\\substack{ \\xi_{1}=r^{2} }}^{2} + P{\\left(r^{2} \\right)} - 4 \\left. \\frac{d^{2}}{d \\xi_{1}^{2}} P{\\left(\\xi_{1} \\right)} \\right|_{\\substack{ \\xi_{1}=r^{2} }}\\right) e^{- i \\left(u y - v x\\right)}}{\\left(P{\\left(r^{2} \\right)} - 1\\right) \\left(P{\\left(r^{2} \\right)} + 1\\right)}$"
      ],
      "text/plain": [
       "-(-u + x)*(-v + y)*(4*P(r**2)**2*Subs(Derivative(P(_xi_1), (_xi_1, 2)), _xi_1, r**2) - 4*P(r**2)*Subs(Derivative(P(_xi_1), _xi_1), _xi_1, r**2)**2 + P(r**2) - 4*Subs(Derivative(P(_xi_1), (_xi_1, 2)), _xi_1, r**2))*exp(-I*(u*y - v*x))/((P(r**2) - 1)*(P(r**2) + 1))"
      ]
     },
     "execution_count": 22,
     "metadata": {},
     "output_type": "execute_result"
    }
   ],
   "source": [
    "O21re = (Omega[2,1]*exp(I*(u*y-x*v))).simplify().expand().subs([(I,0)]).factor()\n",
    "O21re = O21re*exp(-I*(u*y-x*v))\n",
    "O21re"
   ]
  },
  {
   "cell_type": "code",
   "execution_count": 23,
   "metadata": {
    "colab": {
     "base_uri": "https://localhost:8080/",
     "height": 58
    },
    "id": "8GY0jXHShWv5",
    "outputId": "04c2d78b-411f-4171-db61-31441a1534c1"
   },
   "outputs": [
    {
     "data": {
      "text/latex": [
       "$\\displaystyle \\frac{\\left(2 r^{2} \\left. \\frac{d}{d \\xi_{1}} P{\\left(\\xi_{1} \\right)} \\right|_{\\substack{ \\xi_{1}=r^{2} }} - P^{3}{\\left(r^{2} \\right)} + P{\\left(r^{2} \\right)}\\right) e^{- i \\left(u y - v x\\right)}}{\\left(P{\\left(r^{2} \\right)} - 1\\right) \\left(P{\\left(r^{2} \\right)} + 1\\right)}$"
      ],
      "text/plain": [
       "(2*r**2*Subs(Derivative(P(_xi_1), _xi_1), _xi_1, r**2) - P(r**2)**3 + P(r**2))*exp(-I*(u*y - v*x))/((P(r**2) - 1)*(P(r**2) + 1))"
      ]
     },
     "execution_count": 23,
     "metadata": {},
     "output_type": "execute_result"
    }
   ],
   "source": [
    "O21im = (-I*Omega[2,1]*exp(I*(u*y-x*v))).simplify().expand().subs([(I,0)]).factor()\n",
    "O21im = O21im.collect(Ppe)\n",
    "O21im = O21im.subs([(2*((u-x)**2+(v-y)**2).expand(),2*r**2)])\n",
    "O21im = O21im*exp(-I*(u*y-x*v))\n",
    "O21im"
   ]
  },
  {
   "cell_type": "markdown",
   "metadata": {
    "id": "bl1XvHRCj7qy"
   },
   "source": [
    "Thus, $\\Omega_{3,2}$ is"
   ]
  },
  {
   "cell_type": "code",
   "execution_count": 24,
   "metadata": {
    "colab": {
     "base_uri": "https://localhost:8080/",
     "height": 78
    },
    "id": "_LraACg4j-JU",
    "outputId": "d2078476-ce81-4a1a-ecec-60bc95fdf035"
   },
   "outputs": [
    {
     "data": {
      "text/latex": [
       "$\\displaystyle \\frac{\\left(- \\left(u - x\\right) \\left(v - y\\right) \\left(4 P^{2}{\\left(r^{2} \\right)} \\left. \\frac{d^{2}}{d \\xi_{1}^{2}} P{\\left(\\xi_{1} \\right)} \\right|_{\\substack{ \\xi_{1}=r^{2} }} - 4 P{\\left(r^{2} \\right)} \\left. \\frac{d}{d \\xi_{1}} P{\\left(\\xi_{1} \\right)} \\right|_{\\substack{ \\xi_{1}=r^{2} }}^{2} + P{\\left(r^{2} \\right)} - 4 \\left. \\frac{d^{2}}{d \\xi_{1}^{2}} P{\\left(\\xi_{1} \\right)} \\right|_{\\substack{ \\xi_{1}=r^{2} }}\\right) + i \\left(2 r^{2} \\left. \\frac{d}{d \\xi_{1}} P{\\left(\\xi_{1} \\right)} \\right|_{\\substack{ \\xi_{1}=r^{2} }} - P^{3}{\\left(r^{2} \\right)} + P{\\left(r^{2} \\right)}\\right)\\right) e^{- i \\left(u y - v x\\right)}}{\\left(P{\\left(r^{2} \\right)} - 1\\right) \\left(P{\\left(r^{2} \\right)} + 1\\right)}$"
      ],
      "text/plain": [
       "(-(u - x)*(v - y)*(4*P(r**2)**2*Subs(Derivative(P(_xi_1), (_xi_1, 2)), _xi_1, r**2) - 4*P(r**2)*Subs(Derivative(P(_xi_1), _xi_1), _xi_1, r**2)**2 + P(r**2) - 4*Subs(Derivative(P(_xi_1), (_xi_1, 2)), _xi_1, r**2)) + I*(2*r**2*Subs(Derivative(P(_xi_1), _xi_1), _xi_1, r**2) - P(r**2)**3 + P(r**2)))*exp(-I*(u*y - v*x))/((P(r**2) - 1)*(P(r**2) + 1))"
      ]
     },
     "execution_count": 24,
     "metadata": {},
     "output_type": "execute_result"
    }
   ],
   "source": [
    "O21 = (O21re + I * O21im).simplify()\n",
    "O21"
   ]
  },
  {
   "cell_type": "markdown",
   "metadata": {
    "id": "Ih7f0kh5kUeD"
   },
   "source": [
    "Hence, the real part of the product $\\Omega_{1,4}\\Omega_{3,2}$ is"
   ]
  },
  {
   "cell_type": "code",
   "execution_count": 25,
   "metadata": {
    "colab": {
     "base_uri": "https://localhost:8080/",
     "height": 88
    },
    "id": "QBb3vda_j2A-",
    "outputId": "7ade2a86-a6ea-4b7f-f7d2-7e7b7f2c7db7"
   },
   "outputs": [
    {
     "data": {
      "text/latex": [
       "$\\displaystyle \\frac{\\left(u - x\\right)^{2} \\left(v - y\\right)^{2} \\left(4 P^{2}{\\left(r^{2} \\right)} \\left. \\frac{d^{2}}{d \\xi_{1}^{2}} P{\\left(\\xi_{1} \\right)} \\right|_{\\substack{ \\xi_{1}=r^{2} }} - 4 P{\\left(r^{2} \\right)} \\left. \\frac{d}{d \\xi_{1}} P{\\left(\\xi_{1} \\right)} \\right|_{\\substack{ \\xi_{1}=r^{2} }}^{2} + P{\\left(r^{2} \\right)} - 4 \\left. \\frac{d^{2}}{d \\xi_{1}^{2}} P{\\left(\\xi_{1} \\right)} \\right|_{\\substack{ \\xi_{1}=r^{2} }}\\right)^{2} - \\left(2 r^{2} \\left. \\frac{d}{d \\xi_{1}} P{\\left(\\xi_{1} \\right)} \\right|_{\\substack{ \\xi_{1}=r^{2} }} - P^{3}{\\left(r^{2} \\right)} + P{\\left(r^{2} \\right)}\\right)^{2}}{\\left(P{\\left(r^{2} \\right)} - 1\\right)^{2} \\left(P{\\left(r^{2} \\right)} + 1\\right)^{2}}$"
      ],
      "text/plain": [
       "((u - x)**2*(v - y)**2*(4*P(r**2)**2*Subs(Derivative(P(_xi_1), (_xi_1, 2)), _xi_1, r**2) - 4*P(r**2)*Subs(Derivative(P(_xi_1), _xi_1), _xi_1, r**2)**2 + P(r**2) - 4*Subs(Derivative(P(_xi_1), (_xi_1, 2)), _xi_1, r**2))**2 - (2*r**2*Subs(Derivative(P(_xi_1), _xi_1), _xi_1, r**2) - P(r**2)**3 + P(r**2))**2)/((P(r**2) - 1)**2*(P(r**2) + 1)**2)"
      ]
     },
     "execution_count": 25,
     "metadata": {},
     "output_type": "execute_result"
    }
   ],
   "source": [
    "O0321re = (O03re*O21re-O03im*O21im).simplify()\n",
    "O0321re"
   ]
  },
  {
   "cell_type": "markdown",
   "metadata": {
    "id": "-hNrsv6xIqMU"
   },
   "source": [
    "Substitute $Q = 4P^2P''-4PP'^2-4P''$"
   ]
  },
  {
   "cell_type": "code",
   "execution_count": 26,
   "metadata": {
    "colab": {
     "base_uri": "https://localhost:8080/",
     "height": 68
    },
    "id": "uZ-VFNdNHuiF",
    "outputId": "49456970-9781-4b10-8971-a57ca70040e9"
   },
   "outputs": [
    {
     "data": {
      "text/latex": [
       "$\\displaystyle \\frac{\\left(u - x\\right)^{2} \\left(v - y\\right)^{2} \\left(P{\\left(r^{2} \\right)} + Q{\\left(r^{2} \\right)}\\right)^{2} - \\left(2 r^{2} \\left. \\frac{d}{d \\xi_{1}} P{\\left(\\xi_{1} \\right)} \\right|_{\\substack{ \\xi_{1}=r^{2} }} - P^{3}{\\left(r^{2} \\right)} + P{\\left(r^{2} \\right)}\\right)^{2}}{\\left(P{\\left(r^{2} \\right)} - 1\\right)^{2} \\left(P{\\left(r^{2} \\right)} + 1\\right)^{2}}$"
      ],
      "text/plain": [
       "((u - x)**2*(v - y)**2*(P(r**2) + Q(r**2))**2 - (2*r**2*Subs(Derivative(P(_xi_1), _xi_1), _xi_1, r**2) - P(r**2)**3 + P(r**2))**2)/((P(r**2) - 1)**2*(P(r**2) + 1)**2)"
      ]
     },
     "execution_count": 26,
     "metadata": {},
     "output_type": "execute_result"
    }
   ],
   "source": [
    "O0321re = O0321re.subs([(4*P(r**2)**2*Pppe-4*P(r**2)*Ppe**2-4*Pppe,Q(r**2))])\n",
    "O0321re"
   ]
  },
  {
   "cell_type": "markdown",
   "metadata": {
    "id": "WMMeFTXUk1Tj"
   },
   "source": [
    "Continuing with $\\Omega_{2,4}$"
   ]
  },
  {
   "cell_type": "code",
   "execution_count": 27,
   "metadata": {
    "colab": {
     "base_uri": "https://localhost:8080/",
     "height": 58
    },
    "id": "fjuQXjDAFWb0",
    "outputId": "2a436502-8278-43a7-c3d8-2a01d3337cbd"
   },
   "outputs": [
    {
     "data": {
      "text/latex": [
       "$\\displaystyle \\frac{\\left(- 2 \\left(P^{2}{\\left(r^{2} \\right)} - 1\\right) \\left. \\frac{d}{d \\xi_{1}} P{\\left(\\xi_{1} \\right)} \\right|_{\\substack{ \\xi_{1}=r^{2} }} + \\left(u^{2} - 2 u x + x^{2}\\right) P{\\left(r^{2} \\right)} - \\left(v^{2} - 2 v y + y^{2}\\right) Q{\\left(r^{2} \\right)}\\right) e^{i \\left(u y - v x\\right)}}{\\left(P{\\left(r^{2} \\right)} - 1\\right) \\left(P{\\left(r^{2} \\right)} + 1\\right)}$"
      ],
      "text/plain": [
       "(-2*(P(r**2)**2 - 1)*Subs(Derivative(P(_xi_1), _xi_1), _xi_1, r**2) + (u**2 - 2*u*x + x**2)*P(r**2) - (v**2 - 2*v*y + y**2)*Q(r**2))*exp(I*(u*y - v*x))/((P(r**2) - 1)*(P(r**2) + 1))"
      ]
     },
     "execution_count": 27,
     "metadata": {},
     "output_type": "execute_result"
    }
   ],
   "source": [
    "O13 = (Omega[1,3]*exp(-I*(u*y-x*v))).simplify().expand().factor()\n",
    "O13 = O13.collect(y*v).collect(y**2).collect(v**2)\n",
    "O13 = O13.simplify()\n",
    "O13 = O13.collect(-P(r**2)**2*Pppe+P(r**2)*Ppe**2+Pppe)\n",
    "O13 = O13.collect(P(r**2))\n",
    "O13 = O13.collect(Ppe)\n",
    "O13 = O13.subs([(P(r**2)**2*Pppe-P(r**2)*Ppe**2-Pppe,Q(r**2)/4)]).simplify()\n",
    "O13 = O13*exp(I*(u*y-x*v))\n",
    "O13"
   ]
  },
  {
   "cell_type": "markdown",
   "metadata": {
    "id": "Qjluv99nnxLG"
   },
   "source": [
    "and $\\Omega_{3,1}$"
   ]
  },
  {
   "cell_type": "code",
   "execution_count": 28,
   "metadata": {
    "colab": {
     "base_uri": "https://localhost:8080/",
     "height": 58
    },
    "id": "mLBvymLRkEZS",
    "outputId": "8e8db82c-da39-43b1-9ae8-548e18d9e1bf"
   },
   "outputs": [
    {
     "data": {
      "text/latex": [
       "$\\displaystyle \\frac{\\left(- 2 \\left(P^{2}{\\left(r^{2} \\right)} - 1\\right) \\left. \\frac{d}{d \\xi_{1}} P{\\left(\\xi_{1} \\right)} \\right|_{\\substack{ \\xi_{1}=r^{2} }} - \\left(u^{2} - 2 u x + x^{2}\\right) Q{\\left(r^{2} \\right)} + \\left(v^{2} - 2 v y + y^{2}\\right) P{\\left(r^{2} \\right)}\\right) e^{- i \\left(u y - v x\\right)}}{\\left(P{\\left(r^{2} \\right)} - 1\\right) \\left(P{\\left(r^{2} \\right)} + 1\\right)}$"
      ],
      "text/plain": [
       "(-2*(P(r**2)**2 - 1)*Subs(Derivative(P(_xi_1), _xi_1), _xi_1, r**2) - (u**2 - 2*u*x + x**2)*Q(r**2) + (v**2 - 2*v*y + y**2)*P(r**2))*exp(-I*(u*y - v*x))/((P(r**2) - 1)*(P(r**2) + 1))"
      ]
     },
     "execution_count": 28,
     "metadata": {},
     "output_type": "execute_result"
    }
   ],
   "source": [
    "O20 = (Omega[2,0]*exp(I*(u*y-x*v))).simplify().expand().factor()\n",
    "O20 = O20.collect(x*u).collect(x**2).collect(u**2)\n",
    "O20 = O20.simplify()\n",
    "O20 = O20.collect(-P(r**2)**2*Pppe+P(r**2)*Ppe**2+Pppe)\n",
    "O20 = O20.collect(P(r**2))\n",
    "O20 = O20.collect(Ppe)\n",
    "O20 = O20.subs([(P(r**2)**2*Pppe-P(r**2)*Ppe**2-Pppe,Q(r**2)/4)]).simplify()\n",
    "O20 = O20*exp(-I*(u*y-x*v))\n",
    "O20"
   ]
  },
  {
   "cell_type": "markdown",
   "metadata": {
    "id": "6wp4Cbp0oEqO"
   },
   "source": [
    "we see that their product is real and calculates to"
   ]
  },
  {
   "cell_type": "code",
   "execution_count": 29,
   "metadata": {
    "colab": {
     "base_uri": "https://localhost:8080/",
     "height": 78
    },
    "id": "zmpwb8_Xknw-",
    "outputId": "7c8179ee-70da-4361-b9b7-dbb116cbbf0d"
   },
   "outputs": [
    {
     "data": {
      "text/latex": [
       "$\\displaystyle \\frac{\\left(2 \\left(P^{2}{\\left(r^{2} \\right)} - 1\\right) \\left. \\frac{d}{d \\xi_{1}} P{\\left(\\xi_{1} \\right)} \\right|_{\\substack{ \\xi_{1}=r^{2} }} - \\left(u^{2} - 2 u x + x^{2}\\right) P{\\left(r^{2} \\right)} + \\left(v^{2} - 2 v y + y^{2}\\right) Q{\\left(r^{2} \\right)}\\right) \\left(2 \\left(P^{2}{\\left(r^{2} \\right)} - 1\\right) \\left. \\frac{d}{d \\xi_{1}} P{\\left(\\xi_{1} \\right)} \\right|_{\\substack{ \\xi_{1}=r^{2} }} + \\left(u^{2} - 2 u x + x^{2}\\right) Q{\\left(r^{2} \\right)} - \\left(v^{2} - 2 v y + y^{2}\\right) P{\\left(r^{2} \\right)}\\right)}{\\left(P{\\left(r^{2} \\right)} - 1\\right)^{2} \\left(P{\\left(r^{2} \\right)} + 1\\right)^{2}}$"
      ],
      "text/plain": [
       "(2*(P(r**2)**2 - 1)*Subs(Derivative(P(_xi_1), _xi_1), _xi_1, r**2) - (u**2 - 2*u*x + x**2)*P(r**2) + (v**2 - 2*v*y + y**2)*Q(r**2))*(2*(P(r**2)**2 - 1)*Subs(Derivative(P(_xi_1), _xi_1), _xi_1, r**2) + (u**2 - 2*u*x + x**2)*Q(r**2) - (v**2 - 2*v*y + y**2)*P(r**2))/((P(r**2) - 1)**2*(P(r**2) + 1)**2)"
      ]
     },
     "execution_count": 29,
     "metadata": {},
     "output_type": "execute_result"
    }
   ],
   "source": [
    "O1320re = (O13*O20)\n",
    "O1320re.simplify()"
   ]
  },
  {
   "cell_type": "markdown",
   "metadata": {
    "id": "nWXMerWbLjya"
   },
   "source": [
    "Now $E=\\Im \\big[ \\Omega_{1,2} \\big] \\Im \\big[ \\Omega_{3,4} \\big]\n",
    "-\\frac{1}{2} \\Re \n",
    "\\Big[\\Omega_{1,4}\\Omega_{3,2}\n",
    "- \n",
    "\\Omega_{2,4}\\Omega_{3,1}\n",
    "\\Big]$ calculates to"
   ]
  },
  {
   "cell_type": "code",
   "execution_count": 30,
   "metadata": {
    "colab": {
     "base_uri": "https://localhost:8080/",
     "height": 78
    },
    "id": "KcSxexnZL47c",
    "outputId": "93feaae4-cd7d-4516-e992-e37b617eabe6"
   },
   "outputs": [
    {
     "data": {
      "text/latex": [
       "$\\displaystyle \\frac{r^{4} \\left(- 4 P^{3}{\\left(r^{2} \\right)} \\left. \\frac{d^{2}}{d \\xi_{1}^{2}} P{\\left(\\xi_{1} \\right)} \\right|_{\\substack{ \\xi_{1}=r^{2} }} + 12 P^{2}{\\left(r^{2} \\right)} \\left. \\frac{d}{d \\xi_{1}} P{\\left(\\xi_{1} \\right)} \\right|_{\\substack{ \\xi_{1}=r^{2} }}^{2} + 4 P{\\left(r^{2} \\right)} \\left. \\frac{d^{2}}{d \\xi_{1}^{2}} P{\\left(\\xi_{1} \\right)} \\right|_{\\substack{ \\xi_{1}=r^{2} }} + 4 \\left. \\frac{d}{d \\xi_{1}} P{\\left(\\xi_{1} \\right)} \\right|_{\\substack{ \\xi_{1}=r^{2} }}^{2}\\right) + r^{2} \\left(8 P^{4}{\\left(r^{2} \\right)} \\left. \\frac{d}{d \\xi_{1}} P{\\left(\\xi_{1} \\right)} \\right|_{\\substack{ \\xi_{1}=r^{2} }} \\left. \\frac{d^{2}}{d \\xi_{1}^{2}} P{\\left(\\xi_{1} \\right)} \\right|_{\\substack{ \\xi_{1}=r^{2} }} - 8 P^{3}{\\left(r^{2} \\right)} \\left. \\frac{d}{d \\xi_{1}} P{\\left(\\xi_{1} \\right)} \\right|_{\\substack{ \\xi_{1}=r^{2} }}^{3} - 14 P^{3}{\\left(r^{2} \\right)} \\left. \\frac{d}{d \\xi_{1}} P{\\left(\\xi_{1} \\right)} \\right|_{\\substack{ \\xi_{1}=r^{2} }} - 16 P^{2}{\\left(r^{2} \\right)} \\left. \\frac{d}{d \\xi_{1}} P{\\left(\\xi_{1} \\right)} \\right|_{\\substack{ \\xi_{1}=r^{2} }} \\left. \\frac{d^{2}}{d \\xi_{1}^{2}} P{\\left(\\xi_{1} \\right)} \\right|_{\\substack{ \\xi_{1}=r^{2} }} + 8 P{\\left(r^{2} \\right)} \\left. \\frac{d}{d \\xi_{1}} P{\\left(\\xi_{1} \\right)} \\right|_{\\substack{ \\xi_{1}=r^{2} }}^{3} + 14 P{\\left(r^{2} \\right)} \\left. \\frac{d}{d \\xi_{1}} P{\\left(\\xi_{1} \\right)} \\right|_{\\substack{ \\xi_{1}=r^{2} }} + 8 \\left. \\frac{d}{d \\xi_{1}} P{\\left(\\xi_{1} \\right)} \\right|_{\\substack{ \\xi_{1}=r^{2} }} \\left. \\frac{d^{2}}{d \\xi_{1}^{2}} P{\\left(\\xi_{1} \\right)} \\right|_{\\substack{ \\xi_{1}=r^{2} }}\\right) + P^{6}{\\left(r^{2} \\right)} + 4 P^{4}{\\left(r^{2} \\right)} \\left. \\frac{d}{d \\xi_{1}} P{\\left(\\xi_{1} \\right)} \\right|_{\\substack{ \\xi_{1}=r^{2} }}^{2} - 8 P^{2}{\\left(r^{2} \\right)} \\left. \\frac{d}{d \\xi_{1}} P{\\left(\\xi_{1} \\right)} \\right|_{\\substack{ \\xi_{1}=r^{2} }}^{2} - 3 P^{2}{\\left(r^{2} \\right)} + 4 \\left. \\frac{d}{d \\xi_{1}} P{\\left(\\xi_{1} \\right)} \\right|_{\\substack{ \\xi_{1}=r^{2} }}^{2} + 2}{2 P^{4}{\\left(r^{2} \\right)} - 4 P^{2}{\\left(r^{2} \\right)} + 2}$"
      ],
      "text/plain": [
       "(r**4*(-4*P(r**2)**3*Subs(Derivative(P(_xi_1), (_xi_1, 2)), _xi_1, r**2) + 12*P(r**2)**2*Subs(Derivative(P(_xi_1), _xi_1), _xi_1, r**2)**2 + 4*P(r**2)*Subs(Derivative(P(_xi_1), (_xi_1, 2)), _xi_1, r**2) + 4*Subs(Derivative(P(_xi_1), _xi_1), _xi_1, r**2)**2) + r**2*(8*P(r**2)**4*Subs(Derivative(P(_xi_1), _xi_1), _xi_1, r**2)*Subs(Derivative(P(_xi_1), (_xi_1, 2)), _xi_1, r**2) - 8*P(r**2)**3*Subs(Derivative(P(_xi_1), _xi_1), _xi_1, r**2)**3 - 14*P(r**2)**3*Subs(Derivative(P(_xi_1), _xi_1), _xi_1, r**2) - 16*P(r**2)**2*Subs(Derivative(P(_xi_1), _xi_1), _xi_1, r**2)*Subs(Derivative(P(_xi_1), (_xi_1, 2)), _xi_1, r**2) + 8*P(r**2)*Subs(Derivative(P(_xi_1), _xi_1), _xi_1, r**2)**3 + 14*P(r**2)*Subs(Derivative(P(_xi_1), _xi_1), _xi_1, r**2) + 8*Subs(Derivative(P(_xi_1), _xi_1), _xi_1, r**2)*Subs(Derivative(P(_xi_1), (_xi_1, 2)), _xi_1, r**2)) + P(r**2)**6 + 4*P(r**2)**4*Subs(Derivative(P(_xi_1), _xi_1), _xi_1, r**2)**2 - 8*P(r**2)**2*Subs(Derivative(P(_xi_1), _xi_1), _xi_1, r**2)**2 - 3*P(r**2)**2 + 4*Subs(Derivative(P(_xi_1), _xi_1), _xi_1, r**2)**2 + 2)/(2*P(r**2)**4 - 4*P(r**2)**2 + 2)"
      ]
     },
     "execution_count": 30,
     "metadata": {},
     "output_type": "execute_result"
    }
   ],
   "source": [
    "myE = O01im*O23im-(O0321re-O1320re)/2\n",
    "myE = myE.subs([(((u-x)**2).expand(),r**2-(v-y)**2)])\n",
    "myE = myE.subs([(((u-x)**2),r**2-(v-y)**2)])\n",
    "myE = myE.subs([(Q(r**2),4*P(r**2)**2*Pppe-4*P(r**2)*Ppe**2-4*Pppe)]).expand()\n",
    "myE = myE.simplify().collect(r)\n",
    "myE"
   ]
  },
  {
   "cell_type": "markdown",
   "metadata": {
    "id": "doOI7cirVeuX"
   },
   "source": [
    "Here, we can further simplify the coefficients of $r^4$, $r^2$, and $r^0$"
   ]
  },
  {
   "cell_type": "code",
   "execution_count": 31,
   "metadata": {
    "colab": {
     "base_uri": "https://localhost:8080/",
     "height": 58
    },
    "id": "R4UYCAdNUkoX",
    "outputId": "dffae307-d7f1-4b7f-ada6-0006962a7ce1"
   },
   "outputs": [
    {
     "data": {
      "text/latex": [
       "$\\displaystyle - \\frac{2 \\left(P^{3}{\\left(r^{2} \\right)} \\left. \\frac{d^{2}}{d \\xi_{1}^{2}} P{\\left(\\xi_{1} \\right)} \\right|_{\\substack{ \\xi_{1}=r^{2} }} - 3 P^{2}{\\left(r^{2} \\right)} \\left. \\frac{d}{d \\xi_{1}} P{\\left(\\xi_{1} \\right)} \\right|_{\\substack{ \\xi_{1}=r^{2} }}^{2} - P{\\left(r^{2} \\right)} \\left. \\frac{d^{2}}{d \\xi_{1}^{2}} P{\\left(\\xi_{1} \\right)} \\right|_{\\substack{ \\xi_{1}=r^{2} }} - \\left. \\frac{d}{d \\xi_{1}} P{\\left(\\xi_{1} \\right)} \\right|_{\\substack{ \\xi_{1}=r^{2} }}^{2}\\right)}{\\left(P{\\left(r^{2} \\right)} - 1\\right)^{2} \\left(P{\\left(r^{2} \\right)} + 1\\right)^{2}}$"
      ],
      "text/plain": [
       "-2*(P(r**2)**3*Subs(Derivative(P(_xi_1), (_xi_1, 2)), _xi_1, r**2) - 3*P(r**2)**2*Subs(Derivative(P(_xi_1), _xi_1), _xi_1, r**2)**2 - P(r**2)*Subs(Derivative(P(_xi_1), (_xi_1, 2)), _xi_1, r**2) - Subs(Derivative(P(_xi_1), _xi_1), _xi_1, r**2)**2)/((P(r**2) - 1)**2*(P(r**2) + 1)**2)"
      ]
     },
     "execution_count": 31,
     "metadata": {},
     "output_type": "execute_result"
    }
   ],
   "source": [
    "myEr4 = myE.expand().coeff(r,4).factor()\n",
    "myEr4"
   ]
  },
  {
   "cell_type": "code",
   "execution_count": 32,
   "metadata": {
    "colab": {
     "base_uri": "https://localhost:8080/",
     "height": 64
    },
    "id": "PpLVHHmmU9cf",
    "outputId": "e19e6230-e8c2-4663-ecfc-beb573238d2e"
   },
   "outputs": [
    {
     "data": {
      "text/latex": [
       "$\\displaystyle \\frac{\\left(4 P^{2}{\\left(r^{2} \\right)} \\left. \\frac{d^{2}}{d \\xi_{1}^{2}} P{\\left(\\xi_{1} \\right)} \\right|_{\\substack{ \\xi_{1}=r^{2} }} - 4 P{\\left(r^{2} \\right)} \\left. \\frac{d}{d \\xi_{1}} P{\\left(\\xi_{1} \\right)} \\right|_{\\substack{ \\xi_{1}=r^{2} }}^{2} - 7 P{\\left(r^{2} \\right)} - 4 \\left. \\frac{d^{2}}{d \\xi_{1}^{2}} P{\\left(\\xi_{1} \\right)} \\right|_{\\substack{ \\xi_{1}=r^{2} }}\\right) \\left. \\frac{d}{d \\xi_{1}} P{\\left(\\xi_{1} \\right)} \\right|_{\\substack{ \\xi_{1}=r^{2} }}}{\\left(P{\\left(r^{2} \\right)} - 1\\right) \\left(P{\\left(r^{2} \\right)} + 1\\right)}$"
      ],
      "text/plain": [
       "(4*P(r**2)**2*Subs(Derivative(P(_xi_1), (_xi_1, 2)), _xi_1, r**2) - 4*P(r**2)*Subs(Derivative(P(_xi_1), _xi_1), _xi_1, r**2)**2 - 7*P(r**2) - 4*Subs(Derivative(P(_xi_1), (_xi_1, 2)), _xi_1, r**2))*Subs(Derivative(P(_xi_1), _xi_1), _xi_1, r**2)/((P(r**2) - 1)*(P(r**2) + 1))"
      ]
     },
     "execution_count": 32,
     "metadata": {},
     "output_type": "execute_result"
    }
   ],
   "source": [
    "myEr2 = myE.expand().coeff(r,2).factor()\n",
    "myEr2"
   ]
  },
  {
   "cell_type": "code",
   "execution_count": 33,
   "metadata": {
    "colab": {
     "base_uri": "https://localhost:8080/",
     "height": 58
    },
    "id": "NF45g8BaU_8q",
    "outputId": "8e97221a-d93e-4637-85d8-82be30bce7c7"
   },
   "outputs": [
    {
     "data": {
      "text/latex": [
       "$\\displaystyle \\frac{P^{2}{\\left(r^{2} \\right)} + 4 \\left. \\frac{d}{d \\xi_{1}} P{\\left(\\xi_{1} \\right)} \\right|_{\\substack{ \\xi_{1}=r^{2} }}^{2} + 2}{2}$"
      ],
      "text/plain": [
       "(P(r**2)**2 + 4*Subs(Derivative(P(_xi_1), _xi_1), _xi_1, r**2)**2 + 2)/2"
      ]
     },
     "execution_count": 33,
     "metadata": {},
     "output_type": "execute_result"
    }
   ],
   "source": [
    "myEr0 = (myE-r**4*myEr4- r**2 * myEr2).factor()\n",
    "myEr0"
   ]
  },
  {
   "cell_type": "markdown",
   "metadata": {
    "id": "mMVB-na7t1-2"
   },
   "source": [
    "We can now define $U = E/(1-P^2) -1$"
   ]
  },
  {
   "cell_type": "code",
   "execution_count": 34,
   "metadata": {
    "colab": {
     "base_uri": "https://localhost:8080/",
     "height": 78
    },
    "id": "iEYprlcPXqGQ",
    "outputId": "557dea97-9a4d-4c00-988a-c5c734ca7a55"
   },
   "outputs": [
    {
     "data": {
      "text/latex": [
       "$\\displaystyle \\frac{4 r^{4} \\left(P^{3}{\\left(r^{2} \\right)} \\left. \\frac{d^{2}}{d \\xi_{1}^{2}} P{\\left(\\xi_{1} \\right)} \\right|_{\\substack{ \\xi_{1}=r^{2} }} - 3 P^{2}{\\left(r^{2} \\right)} \\left. \\frac{d}{d \\xi_{1}} P{\\left(\\xi_{1} \\right)} \\right|_{\\substack{ \\xi_{1}=r^{2} }}^{2} - P{\\left(r^{2} \\right)} \\left. \\frac{d^{2}}{d \\xi_{1}^{2}} P{\\left(\\xi_{1} \\right)} \\right|_{\\substack{ \\xi_{1}=r^{2} }} - \\left. \\frac{d}{d \\xi_{1}} P{\\left(\\xi_{1} \\right)} \\right|_{\\substack{ \\xi_{1}=r^{2} }}^{2}\\right) + 2 r^{2} \\left(- 4 P^{4}{\\left(r^{2} \\right)} \\left. \\frac{d^{2}}{d \\xi_{1}^{2}} P{\\left(\\xi_{1} \\right)} \\right|_{\\substack{ \\xi_{1}=r^{2} }} + 4 P^{3}{\\left(r^{2} \\right)} \\left. \\frac{d}{d \\xi_{1}} P{\\left(\\xi_{1} \\right)} \\right|_{\\substack{ \\xi_{1}=r^{2} }}^{2} + 7 P^{3}{\\left(r^{2} \\right)} + 8 P^{2}{\\left(r^{2} \\right)} \\left. \\frac{d^{2}}{d \\xi_{1}^{2}} P{\\left(\\xi_{1} \\right)} \\right|_{\\substack{ \\xi_{1}=r^{2} }} - 4 P{\\left(r^{2} \\right)} \\left. \\frac{d}{d \\xi_{1}} P{\\left(\\xi_{1} \\right)} \\right|_{\\substack{ \\xi_{1}=r^{2} }}^{2} - 7 P{\\left(r^{2} \\right)} - 4 \\left. \\frac{d^{2}}{d \\xi_{1}^{2}} P{\\left(\\xi_{1} \\right)} \\right|_{\\substack{ \\xi_{1}=r^{2} }}\\right) \\left. \\frac{d}{d \\xi_{1}} P{\\left(\\xi_{1} \\right)} \\right|_{\\substack{ \\xi_{1}=r^{2} }} - 2 \\left(P^{2}{\\left(r^{2} \\right)} - 1\\right) \\left(P^{4}{\\left(r^{2} \\right)} - 2 P^{2}{\\left(r^{2} \\right)} + 1\\right) - P^{6}{\\left(r^{2} \\right)} - 4 P^{4}{\\left(r^{2} \\right)} \\left. \\frac{d}{d \\xi_{1}} P{\\left(\\xi_{1} \\right)} \\right|_{\\substack{ \\xi_{1}=r^{2} }}^{2} + 8 P^{2}{\\left(r^{2} \\right)} \\left. \\frac{d}{d \\xi_{1}} P{\\left(\\xi_{1} \\right)} \\right|_{\\substack{ \\xi_{1}=r^{2} }}^{2} + 3 P^{2}{\\left(r^{2} \\right)} - 4 \\left. \\frac{d}{d \\xi_{1}} P{\\left(\\xi_{1} \\right)} \\right|_{\\substack{ \\xi_{1}=r^{2} }}^{2} - 2}{2 \\left(P^{2}{\\left(r^{2} \\right)} - 1\\right) \\left(P^{4}{\\left(r^{2} \\right)} - 2 P^{2}{\\left(r^{2} \\right)} + 1\\right)}$"
      ],
      "text/plain": [
       "(4*r**4*(P(r**2)**3*Subs(Derivative(P(_xi_1), (_xi_1, 2)), _xi_1, r**2) - 3*P(r**2)**2*Subs(Derivative(P(_xi_1), _xi_1), _xi_1, r**2)**2 - P(r**2)*Subs(Derivative(P(_xi_1), (_xi_1, 2)), _xi_1, r**2) - Subs(Derivative(P(_xi_1), _xi_1), _xi_1, r**2)**2) + 2*r**2*(-4*P(r**2)**4*Subs(Derivative(P(_xi_1), (_xi_1, 2)), _xi_1, r**2) + 4*P(r**2)**3*Subs(Derivative(P(_xi_1), _xi_1), _xi_1, r**2)**2 + 7*P(r**2)**3 + 8*P(r**2)**2*Subs(Derivative(P(_xi_1), (_xi_1, 2)), _xi_1, r**2) - 4*P(r**2)*Subs(Derivative(P(_xi_1), _xi_1), _xi_1, r**2)**2 - 7*P(r**2) - 4*Subs(Derivative(P(_xi_1), (_xi_1, 2)), _xi_1, r**2))*Subs(Derivative(P(_xi_1), _xi_1), _xi_1, r**2) - 2*(P(r**2)**2 - 1)*(P(r**2)**4 - 2*P(r**2)**2 + 1) - P(r**2)**6 - 4*P(r**2)**4*Subs(Derivative(P(_xi_1), _xi_1), _xi_1, r**2)**2 + 8*P(r**2)**2*Subs(Derivative(P(_xi_1), _xi_1), _xi_1, r**2)**2 + 3*P(r**2)**2 - 4*Subs(Derivative(P(_xi_1), _xi_1), _xi_1, r**2)**2 - 2)/(2*(P(r**2)**2 - 1)*(P(r**2)**4 - 2*P(r**2)**2 + 1))"
      ]
     },
     "execution_count": 34,
     "metadata": {},
     "output_type": "execute_result"
    }
   ],
   "source": [
    "myU = 1/(1-P(r**2)**2)*myE-1\n",
    "myU = myU.simplify()\n",
    "#myU = myU.factor()\n",
    "myU"
   ]
  },
  {
   "cell_type": "markdown",
   "metadata": {
    "id": "JpCFxsEst7XL"
   },
   "source": [
    "We define $I$, calculate the derivative, and show that it is equal to $U$"
   ]
  },
  {
   "cell_type": "code",
   "execution_count": 35,
   "metadata": {
    "colab": {
     "base_uri": "https://localhost:8080/",
     "height": 58
    },
    "id": "ibHTaBhZi9Hj",
    "outputId": "2259706b-25b3-47fe-f81e-198eeed82e60"
   },
   "outputs": [
    {
     "data": {
      "text/latex": [
       "$\\displaystyle \\frac{2 s^{2} P{\\left(s \\right)} \\left. \\frac{d}{d \\xi_{1}} P{\\left(\\xi_{1} \\right)} \\right|_{\\substack{ \\xi_{1}=s }}}{\\left(1 - P^{2}{\\left(s \\right)}\\right)^{2}} + \\frac{s \\left(\\frac{3 P^{2}{\\left(s \\right)}}{2} + 2 \\left. \\frac{d}{d \\xi_{1}} P{\\left(\\xi_{1} \\right)} \\right|_{\\substack{ \\xi_{1}=s }}^{2}\\right)}{1 - P^{2}{\\left(s \\right)}}$"
      ],
      "text/plain": [
       "2*s**2*P(s)*Subs(Derivative(P(_xi_1), _xi_1), _xi_1, s)/(1 - P(s)**2)**2 + s*(3*P(s)**2/2 + 2*Subs(Derivative(P(_xi_1), _xi_1), _xi_1, s)**2)/(1 - P(s)**2)"
      ]
     },
     "execution_count": 35,
     "metadata": {},
     "output_type": "execute_result"
    }
   ],
   "source": [
    "Pe = P(r**2)\n",
    "myI = r**2*(2*Ppe**2+3*Pe**2/2)/(1-Pe**2) + 2*r**4*Pe*Ppe/(1-Pe**2)**2\n",
    "myI = myI.subs([(r**2, s)])\n",
    "myI"
   ]
  },
  {
   "cell_type": "code",
   "execution_count": 36,
   "metadata": {
    "colab": {
     "base_uri": "https://localhost:8080/",
     "height": 187
    },
    "id": "eKzrhLY5kmOG",
    "outputId": "b273ae33-a164-4984-80da-ffea829f47a9"
   },
   "outputs": [
    {
     "data": {
      "text/latex": [
       "$\\displaystyle \\frac{2 r^{4} P{\\left(r^{2} \\right)} \\left. \\frac{d^{2}}{d \\xi_{1}^{2}} P{\\left(\\xi_{1} \\right)} \\right|_{\\substack{ \\xi_{1}=r^{2} }}}{\\left(1 - P^{2}{\\left(r^{2} \\right)}\\right)^{2}} + \\frac{2 r^{4} \\left. \\frac{d}{d \\xi_{1}} P{\\left(\\xi_{1} \\right)} \\right|_{\\substack{ \\xi_{1}=r^{2} }}^{2}}{\\left(1 - P^{2}{\\left(r^{2} \\right)}\\right)^{2}} + \\frac{8 r^{4} P^{2}{\\left(r^{2} \\right)} \\left. \\frac{d}{d \\xi_{1}} P{\\left(\\xi_{1} \\right)} \\right|_{\\substack{ \\xi_{1}=r^{2} }}^{2}}{\\left(1 - P^{2}{\\left(r^{2} \\right)}\\right)^{3}} + \\frac{r^{2} \\left(3 P{\\left(r^{2} \\right)} \\left. \\frac{d}{d \\xi_{1}} P{\\left(\\xi_{1} \\right)} \\right|_{\\substack{ \\xi_{1}=r^{2} }} + 4 \\left. \\frac{d}{d \\xi_{1}} P{\\left(\\xi_{1} \\right)} \\right|_{\\substack{ \\xi_{1}=r^{2} }} \\left. \\frac{d^{2}}{d \\xi_{1}^{2}} P{\\left(\\xi_{1} \\right)} \\right|_{\\substack{ \\xi_{1}=r^{2} }}\\right)}{1 - P^{2}{\\left(r^{2} \\right)}} + \\frac{2 r^{2} \\left(\\frac{3 P^{2}{\\left(r^{2} \\right)}}{2} + 2 \\left. \\frac{d}{d \\xi_{1}} P{\\left(\\xi_{1} \\right)} \\right|_{\\substack{ \\xi_{1}=r^{2} }}^{2}\\right) P{\\left(r^{2} \\right)} \\left. \\frac{d}{d \\xi_{1}} P{\\left(\\xi_{1} \\right)} \\right|_{\\substack{ \\xi_{1}=r^{2} }}}{\\left(1 - P^{2}{\\left(r^{2} \\right)}\\right)^{2}} + \\frac{4 r^{2} P{\\left(r^{2} \\right)} \\left. \\frac{d}{d \\xi_{1}} P{\\left(\\xi_{1} \\right)} \\right|_{\\substack{ \\xi_{1}=r^{2} }}}{\\left(1 - P^{2}{\\left(r^{2} \\right)}\\right)^{2}} + \\frac{\\frac{3 P^{2}{\\left(r^{2} \\right)}}{2} + 2 \\left. \\frac{d}{d \\xi_{1}} P{\\left(\\xi_{1} \\right)} \\right|_{\\substack{ \\xi_{1}=r^{2} }}^{2}}{1 - P^{2}{\\left(r^{2} \\right)}}$"
      ],
      "text/plain": [
       "2*r**4*P(r**2)*Subs(Derivative(P(_xi_1), (_xi_1, 2)), _xi_1, r**2)/(1 - P(r**2)**2)**2 + 2*r**4*Subs(Derivative(P(_xi_1), _xi_1), _xi_1, r**2)**2/(1 - P(r**2)**2)**2 + 8*r**4*P(r**2)**2*Subs(Derivative(P(_xi_1), _xi_1), _xi_1, r**2)**2/(1 - P(r**2)**2)**3 + r**2*(3*P(r**2)*Subs(Derivative(P(_xi_1), _xi_1), _xi_1, r**2) + 4*Subs(Derivative(P(_xi_1), _xi_1), _xi_1, r**2)*Subs(Derivative(P(_xi_1), (_xi_1, 2)), _xi_1, r**2))/(1 - P(r**2)**2) + 2*r**2*(3*P(r**2)**2/2 + 2*Subs(Derivative(P(_xi_1), _xi_1), _xi_1, r**2)**2)*P(r**2)*Subs(Derivative(P(_xi_1), _xi_1), _xi_1, r**2)/(1 - P(r**2)**2)**2 + 4*r**2*P(r**2)*Subs(Derivative(P(_xi_1), _xi_1), _xi_1, r**2)/(1 - P(r**2)**2)**2 + (3*P(r**2)**2/2 + 2*Subs(Derivative(P(_xi_1), _xi_1), _xi_1, r**2)**2)/(1 - P(r**2)**2)"
      ]
     },
     "execution_count": 36,
     "metadata": {},
     "output_type": "execute_result"
    }
   ],
   "source": [
    "dmyI = diff(myI,s)\n",
    "dmyI = dmyI.subs([(diff(Ppe.subs([(r**2, s)]),s),Pppe),(diff(Pe.subs([(r**2, s)]),s),Ppe)])\n",
    "dmyI = dmyI.subs([(s, r**2)])\n",
    "dmyI"
   ]
  },
  {
   "cell_type": "code",
   "execution_count": 37,
   "metadata": {
    "colab": {
     "base_uri": "https://localhost:8080/",
     "height": 37
    },
    "id": "jl-3ynzXnQMx",
    "outputId": "fefb0653-5727-4439-e707-40d64f7cbab2"
   },
   "outputs": [
    {
     "data": {
      "text/latex": [
       "$\\displaystyle 0$"
      ],
      "text/plain": [
       "0"
      ]
     },
     "execution_count": 37,
     "metadata": {},
     "output_type": "execute_result"
    }
   ],
   "source": [
    "(myU-dmyI).simplify().expand()"
   ]
  },
  {
   "cell_type": "code",
   "execution_count": null,
   "metadata": {
    "id": "ZJ-FezUBbUbo"
   },
   "outputs": [],
   "source": []
  }
 ],
 "metadata": {
  "colab": {
   "collapsed_sections": [],
   "name": "GWHFcalctau.ipynb",
   "provenance": []
  },
  "kernelspec": {
   "display_name": "Python 3",
   "language": "python",
   "name": "python3"
  },
  "language_info": {
   "codemirror_mode": {
    "name": "ipython",
    "version": 3
   },
   "file_extension": ".py",
   "mimetype": "text/x-python",
   "name": "python",
   "nbconvert_exporter": "python",
   "pygments_lexer": "ipython3",
   "version": "3.7.3"
  }
 },
 "nbformat": 4,
 "nbformat_minor": 1
}
